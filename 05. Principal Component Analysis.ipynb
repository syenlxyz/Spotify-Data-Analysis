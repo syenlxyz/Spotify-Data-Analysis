{
 "cells": [
  {
   "cell_type": "markdown",
   "metadata": {},
   "source": [
    "# Preparation for Data Analysis"
   ]
  },
  {
   "cell_type": "code",
   "execution_count": 1,
   "metadata": {},
   "outputs": [],
   "source": [
    "from pyspark.sql import SparkSession\n",
    "\n",
    "spark = SparkSession \\\n",
    "    .builder \\\n",
    "    .master('local') \\\n",
    "    .appName('Project Spotify') \\\n",
    "    .config(\"spark.executor.memory\", '8g') \\\n",
    "    .config('spark.executor.cores', '4') \\\n",
    "    .config('spark.cores.max', '4') \\\n",
    "    .config(\"spark.driver.memory\",'8g') \\\n",
    "    .getOrCreate()\n",
    "\n",
    "sc = spark.sparkContext"
   ]
  },
  {
   "cell_type": "code",
   "execution_count": 2,
   "metadata": {},
   "outputs": [],
   "source": [
    "import os\n",
    "data_path = '/home/jovyan'\n",
    "filename = 'spotify_data.csv'\n",
    "path_to_data = os.path.join(data_path, filename)"
   ]
  },
  {
   "cell_type": "code",
   "execution_count": 3,
   "metadata": {},
   "outputs": [],
   "source": [
    "df = spark.read.csv(path_to_data, header=True, inferSchema=True)"
   ]
  },
  {
   "cell_type": "code",
   "execution_count": 4,
   "metadata": {},
   "outputs": [],
   "source": [
    "var_to_keep = [\n",
    "    'track_id',\n",
    "    'album_type',\n",
    "    'release_date',\n",
    "    'is_explicit',\n",
    "    'track_popularity',\n",
    "    'danceability',\n",
    "    'energy',\n",
    "    'key',\n",
    "    'loudness',\n",
    "    'mode',\n",
    "    'speechiness',\n",
    "    'acousticness',\n",
    "    'instrumentalness',\n",
    "    'liveness',\n",
    "    'valence',\n",
    "    'tempo',\n",
    "    'duration_ms',\n",
    "    'time_signature',\n",
    "    'num_follower',\n",
    "    'song_age'\n",
    "]\n",
    "\n",
    "genre = [x for x in df.columns if x not in var_to_keep]"
   ]
  },
  {
   "cell_type": "code",
   "execution_count": 5,
   "metadata": {
    "scrolled": false
   },
   "outputs": [
    {
     "data": {
      "text/plain": [
       "20"
      ]
     },
     "execution_count": 5,
     "metadata": {},
     "output_type": "execute_result"
    }
   ],
   "source": [
    "len(var_to_keep)"
   ]
  },
  {
   "cell_type": "code",
   "execution_count": 6,
   "metadata": {},
   "outputs": [
    {
     "data": {
      "text/plain": [
       "91"
      ]
     },
     "execution_count": 6,
     "metadata": {},
     "output_type": "execute_result"
    }
   ],
   "source": [
    "len(genre)"
   ]
  },
  {
   "cell_type": "code",
   "execution_count": 7,
   "metadata": {},
   "outputs": [],
   "source": [
    "var_to_use = [\n",
    "    'album_type',\n",
    "    'is_explicit',\n",
    "    'track_popularity',\n",
    "    'danceability',\n",
    "    'energy',\n",
    "    'key',\n",
    "    'loudness',\n",
    "    'mode',\n",
    "    'speechiness',\n",
    "    'acousticness',\n",
    "    'instrumentalness',\n",
    "    'liveness',\n",
    "    'valence',\n",
    "    'tempo',\n",
    "    'duration_ms',\n",
    "    'time_signature',\n",
    "    'num_follower',\n",
    "    'song_age'\n",
    "]"
   ]
  },
  {
   "cell_type": "code",
   "execution_count": 8,
   "metadata": {},
   "outputs": [],
   "source": [
    "final_df = df[var_to_use + genre]"
   ]
  },
  {
   "cell_type": "code",
   "execution_count": 9,
   "metadata": {},
   "outputs": [],
   "source": [
    "label = 'track_popularity'\n",
    "features = [x for x in final_df.columns if x != label]"
   ]
  },
  {
   "cell_type": "code",
   "execution_count": 10,
   "metadata": {},
   "outputs": [],
   "source": [
    "# Convert time signature and album type from string to index\n",
    "from pyspark.ml.feature import StringIndexer\n",
    "tsIndexer = StringIndexer(inputCol='time_signature',outputCol='tsIndex')\n",
    "albumTypeIndexer = StringIndexer(inputCol='album_type',outputCol='albumTypeIndex')\n",
    "\n",
    "final_df = tsIndexer.fit(final_df).transform(final_df)\n",
    "final_df = albumTypeIndexer.fit(final_df).transform(final_df)"
   ]
  },
  {
   "cell_type": "code",
   "execution_count": 11,
   "metadata": {},
   "outputs": [],
   "source": [
    "# Ont-hot encoding for key, time signature and album type\n",
    "from pyspark.ml.feature import OneHotEncoder\n",
    "keyEncoder=OneHotEncoder(inputCol='key', outputCol='keyVec', dropLast=False)\n",
    "tsEncoder = OneHotEncoder(inputCol='tsIndex', outputCol='tsVec', dropLast=False)\n",
    "albumTypeEncoder = OneHotEncoder(inputCol=\"albumTypeIndex\",outputCol=\"albumTypeVec\", dropLast=False)\n",
    "\n",
    "final_df = keyEncoder.transform(final_df)\n",
    "final_df = tsEncoder.transform(final_df)\n",
    "final_df = albumTypeEncoder.transform(final_df)"
   ]
  },
  {
   "cell_type": "code",
   "execution_count": 12,
   "metadata": {},
   "outputs": [],
   "source": [
    "# Assign pitch class to each key index\n",
    "pitch_class = {\n",
    "    0:'C Key',\n",
    "    1:'C#/Db Key',\n",
    "    2:'D Key',\n",
    "    3:'D#/Eb Key',\n",
    "    4:'E Key',\n",
    "    5:'F Key',\n",
    "    6:'F#/Gb Key',\n",
    "    7:'G Key',\n",
    "    8:'G#/Ab Key',\n",
    "    9:'A Key',\n",
    "    10:'A#/Bb Key',\n",
    "    11:'B Key'\n",
    "}"
   ]
  },
  {
   "cell_type": "code",
   "execution_count": 13,
   "metadata": {},
   "outputs": [],
   "source": [
    "# Map string index back to their own categories\n",
    "tsDict = final_df.select('time_signature','tsIndex').distinct().sort('tsIndex').toPandas().to_dict('list')\n",
    "albumTypeDict = final_df.select('album_type','albumTypeIndex').distinct().sort('albumTypeIndex').toPandas().to_dict('list')"
   ]
  },
  {
   "cell_type": "code",
   "execution_count": 14,
   "metadata": {},
   "outputs": [],
   "source": [
    "# Create variables for each dummy variables\n",
    "keyDummy = list(pitch_class.values())\n",
    "tsDummy = ['time_signature_' + str(x) for x in tsDict['time_signature']]\n",
    "albumTypeDummy = albumTypeDict['album_type']"
   ]
  },
  {
   "cell_type": "code",
   "execution_count": 15,
   "metadata": {},
   "outputs": [],
   "source": [
    "# Detect the location of each item in the column name list\n",
    "key_index = features.index('key')\n",
    "time_signature_index = features.index('time_signature')\n",
    "album_type_index = features.index('album_type')"
   ]
  },
  {
   "cell_type": "code",
   "execution_count": 16,
   "metadata": {},
   "outputs": [],
   "source": [
    "# Update the columns list by replacing the categorical variable in reverse order\n",
    "featureCol = features\n",
    "featureCol = featureCol[:key_index] + keyDummy + featureCol[key_index+1:]\n",
    "featureCol = featureCol[:time_signature_index] + tsDummy + featureCol[time_signature_index+1:]\n",
    "featureCol = featureCol[:album_type_index] + albumTypeDummy + featureCol[album_type_index+1:]"
   ]
  },
  {
   "cell_type": "code",
   "execution_count": 17,
   "metadata": {},
   "outputs": [
    {
     "data": {
      "text/plain": [
       "125"
      ]
     },
     "execution_count": 17,
     "metadata": {},
     "output_type": "execute_result"
    }
   ],
   "source": [
    "len(featureCol)"
   ]
  },
  {
   "cell_type": "code",
   "execution_count": 18,
   "metadata": {},
   "outputs": [],
   "source": [
    "# Remove all the unnecessary columns\n",
    "from pyspark.sql.functions import *\n",
    "final_df = final_df.withColumn('key', col('keyVec')) \\\n",
    "                    .withColumn('time_signature', col('tsVec')) \\\n",
    "                    .withColumn('album_type', col('albumTypeVec')) \\\n",
    "                    .drop('keyVec','tsVec','tsIndex','albumTypeVec','albumTypeIndex')"
   ]
  },
  {
   "cell_type": "code",
   "execution_count": 19,
   "metadata": {},
   "outputs": [],
   "source": [
    "# Assemble all columns into one feature column\n",
    "from pyspark.ml.feature import VectorAssembler\n",
    "va = VectorAssembler(inputCols = features, outputCol = \"features\")\n",
    "final_df = va.transform(final_df).select('features', col(label).alias('label'))\n",
    "\n",
    "# Scale all variables in the feature vector\n",
    "from pyspark.ml.feature import StandardScaler\n",
    "ss = StandardScaler(inputCol=\"features\", outputCol=\"scaledFeatures\", withStd=True, withMean=False)\n",
    "ssModel = ss.fit(final_df)\n",
    "final_df = ssModel.transform(final_df).select(col('scaledFeatures').alias('features'), 'label')"
   ]
  },
  {
   "cell_type": "code",
   "execution_count": 21,
   "metadata": {},
   "outputs": [],
   "source": [
    "# Sample 0.01 of the entire data for faster computation\n",
    "theSeed = 314\n",
    "sampled_df = final_df.sample(withReplacement=False, fraction=0.01, seed=theSeed)"
   ]
  },
  {
   "cell_type": "code",
   "execution_count": 22,
   "metadata": {},
   "outputs": [],
   "source": [
    "# Split the sample data into train and test set\n",
    "train_df, test_df = sampled_df.randomSplit([0.8,0.2], seed=theSeed)"
   ]
  },
  {
   "cell_type": "code",
   "execution_count": 23,
   "metadata": {},
   "outputs": [
    {
     "data": {
      "text/plain": [
       "DataFrame[features: vector, label: int]"
      ]
     },
     "execution_count": 23,
     "metadata": {},
     "output_type": "execute_result"
    }
   ],
   "source": [
    "# Cache training set\n",
    "train_df.cache()"
   ]
  },
  {
   "cell_type": "code",
   "execution_count": 24,
   "metadata": {},
   "outputs": [
    {
     "data": {
      "text/plain": [
       "DataFrame[features: vector, label: int]"
      ]
     },
     "execution_count": 24,
     "metadata": {},
     "output_type": "execute_result"
    }
   ],
   "source": [
    "# Cache test set\n",
    "test_df.cache()"
   ]
  },
  {
   "cell_type": "code",
   "execution_count": 25,
   "metadata": {},
   "outputs": [
    {
     "data": {
      "text/plain": [
       "4686"
      ]
     },
     "execution_count": 25,
     "metadata": {},
     "output_type": "execute_result"
    }
   ],
   "source": [
    "# Check the count of training set\n",
    "train_df.count()"
   ]
  },
  {
   "cell_type": "code",
   "execution_count": 26,
   "metadata": {},
   "outputs": [
    {
     "data": {
      "text/plain": [
       "1174"
      ]
     },
     "execution_count": 26,
     "metadata": {},
     "output_type": "execute_result"
    }
   ],
   "source": [
    "# Check the count of test set\n",
    "test_df.count()"
   ]
  },
  {
   "cell_type": "markdown",
   "metadata": {},
   "source": [
    "# Modeling"
   ]
  },
  {
   "cell_type": "code",
   "execution_count": 27,
   "metadata": {},
   "outputs": [],
   "source": [
    "# Define evaluators for regression metrics\n",
    "from pyspark.ml.evaluation import RegressionEvaluator\n",
    "rmse = RegressionEvaluator(predictionCol=\"prediction\", metricName=\"rmse\")\n",
    "r2 = RegressionEvaluator(predictionCol=\"prediction\", metricName=\"r2\")\n",
    "mae = RegressionEvaluator(predictionCol=\"prediction\", metricName=\"mae\")"
   ]
  },
  {
   "cell_type": "code",
   "execution_count": 28,
   "metadata": {},
   "outputs": [],
   "source": [
    "# Define a function that compute relevant metrics\n",
    "def model_performance(predictions):\n",
    "    rmse_result = rmse.evaluate(predictions)\n",
    "    r2_result = r2.evaluate(predictions)\n",
    "    mae_result = mae.evaluate(predictions)\n",
    "    return [rmse_result, r2_result, mae_result]"
   ]
  },
  {
   "cell_type": "markdown",
   "metadata": {},
   "source": [
    "# Cross Validation"
   ]
  },
  {
   "cell_type": "code",
   "execution_count": 29,
   "metadata": {},
   "outputs": [],
   "source": [
    "# Import models and cross validation packages\n",
    "from pyspark.ml.regression import LinearRegression, GeneralizedLinearRegression\n",
    "from pyspark.ml.regression import DecisionTreeRegressor, RandomForestRegressor, GBTRegressor"
   ]
  },
  {
   "cell_type": "markdown",
   "metadata": {},
   "source": [
    "## Principal Component Analysis"
   ]
  },
  {
   "cell_type": "code",
   "execution_count": 91,
   "metadata": {},
   "outputs": [],
   "source": [
    "# Compute principal components\n",
    "from pyspark.ml.feature import PCA\n",
    "n_features = len(featureCol)\n",
    "pca = PCA(k=n_features, inputCol='features', outputCol=\"pcaFeatures\")\n",
    "pca_model = pca.fit(final_df)\n",
    "pca_df = pca_model.transform(final_df).select(\"pcaFeatures\")"
   ]
  },
  {
   "cell_type": "code",
   "execution_count": 94,
   "metadata": {},
   "outputs": [],
   "source": [
    "# Compute explained variance and the running total for each PC\n",
    "pve = pca_model.explainedVariance\n",
    "cpve = np.cumsum(pve)\n",
    "pc = range(1,n_features + 1)"
   ]
  },
  {
   "cell_type": "code",
   "execution_count": 115,
   "metadata": {},
   "outputs": [
    {
     "data": {
      "image/png": "[encoded data removed]",
      "text/plain": [
       "<Figure size 432x288 with 1 Axes>"
      ]
     },
     "metadata": {
      "needs_background": "light"
     },
     "output_type": "display_data"
    }
   ],
   "source": [
    "# Plot Percent of variance explained vs number of PC\n",
    "plt.plot(pc, pve, marker='.')\n",
    "plt.show()"
   ]
  },
  {
   "cell_type": "code",
   "execution_count": 109,
   "metadata": {},
   "outputs": [
    {
     "data": {
      "text/html": [
       "<div>\n",
       "<style scoped>\n",
       "    .dataframe tbody tr th:only-of-type {\n",
       "        vertical-align: middle;\n",
       "    }\n",
       "\n",
       "    .dataframe tbody tr th {\n",
       "        vertical-align: top;\n",
       "    }\n",
       "\n",
       "    .dataframe thead th {\n",
       "        text-align: right;\n",
       "    }\n",
       "</style>\n",
       "<table border=\"1\" class=\"dataframe\">\n",
       "  <thead>\n",
       "    <tr style=\"text-align: right;\">\n",
       "      <th></th>\n",
       "      <th>explainedVar</th>\n",
       "      <th>minPC</th>\n",
       "    </tr>\n",
       "  </thead>\n",
       "  <tbody>\n",
       "    <tr>\n",
       "      <th>0</th>\n",
       "      <td>0.1</td>\n",
       "      <td>4</td>\n",
       "    </tr>\n",
       "    <tr>\n",
       "      <th>1</th>\n",
       "      <td>0.2</td>\n",
       "      <td>10</td>\n",
       "    </tr>\n",
       "    <tr>\n",
       "      <th>2</th>\n",
       "      <td>0.3</td>\n",
       "      <td>18</td>\n",
       "    </tr>\n",
       "    <tr>\n",
       "      <th>3</th>\n",
       "      <td>0.4</td>\n",
       "      <td>28</td>\n",
       "    </tr>\n",
       "    <tr>\n",
       "      <th>4</th>\n",
       "      <td>0.5</td>\n",
       "      <td>39</td>\n",
       "    </tr>\n",
       "    <tr>\n",
       "      <th>5</th>\n",
       "      <td>0.6</td>\n",
       "      <td>51</td>\n",
       "    </tr>\n",
       "    <tr>\n",
       "      <th>6</th>\n",
       "      <td>0.7</td>\n",
       "      <td>63</td>\n",
       "    </tr>\n",
       "    <tr>\n",
       "      <th>7</th>\n",
       "      <td>0.8</td>\n",
       "      <td>77</td>\n",
       "    </tr>\n",
       "    <tr>\n",
       "      <th>8</th>\n",
       "      <td>0.9</td>\n",
       "      <td>93</td>\n",
       "    </tr>\n",
       "    <tr>\n",
       "      <th>9</th>\n",
       "      <td>1.0</td>\n",
       "      <td>124</td>\n",
       "    </tr>\n",
       "  </tbody>\n",
       "</table>\n",
       "</div>"
      ],
      "text/plain": [
       "   explainedVar  minPC\n",
       "0           0.1      4\n",
       "1           0.2     10\n",
       "2           0.3     18\n",
       "3           0.4     28\n",
       "4           0.5     39\n",
       "5           0.6     51\n",
       "6           0.7     63\n",
       "7           0.8     77\n",
       "8           0.9     93\n",
       "9           1.0    124"
      ]
     },
     "execution_count": 109,
     "metadata": {},
     "output_type": "execute_result"
    }
   ],
   "source": [
    "# Check the quantile of variance explained by different number of PCs\n",
    "explainedVar = np.linspace(0.1, 1.0, 10, endpoint=True)\n",
    "minPC = [(cpve <= x).sum() for x in explainedVar]\n",
    "pd.DataFrame({'explainedVar':explainedVar, 'minPC':minPC})"
   ]
  },
  {
   "cell_type": "code",
   "execution_count": 118,
   "metadata": {},
   "outputs": [],
   "source": [
    "# Compute the first 20 PCs\n",
    "pca = PCA(k=20, inputCol='features', outputCol='pc')\n",
    "pca_model = pca.fit(final_df)\n",
    "final_df = pca_model.transform(final_df)"
   ]
  },
  {
   "cell_type": "code",
   "execution_count": 119,
   "metadata": {},
   "outputs": [
    {
     "name": "stdout",
     "output_type": "stream",
     "text": [
      "CPU times: user 21.7 ms, sys: 11.4 ms, total: 33.1 ms\n",
      "Wall time: 621 ms\n"
     ]
    }
   ],
   "source": [
    "%%time\n",
    "from pyspark.ml.regression import LinearRegression\n",
    "lr = LinearRegression(maxIter=10)\n",
    "lr_model = lr.fit(train_df)\n",
    "lr_predictions = lr_model.transform(test_df)"
   ]
  },
  {
   "cell_type": "code",
   "execution_count": 120,
   "metadata": {},
   "outputs": [
    {
     "name": "stdout",
     "output_type": "stream",
     "text": [
      "CPU times: user 19 ms, sys: 11.7 ms, total: 30.7 ms\n",
      "Wall time: 340 ms\n"
     ]
    }
   ],
   "source": [
    "%%time\n",
    "from pyspark.ml.regression import GeneralizedLinearRegression\n",
    "glr = GeneralizedLinearRegression(maxIter=10)\n",
    "glr_model = glr.fit(train_df)\n",
    "glr_predictions = glr_model.transform(test_df)"
   ]
  },
  {
   "cell_type": "code",
   "execution_count": 121,
   "metadata": {},
   "outputs": [
    {
     "name": "stdout",
     "output_type": "stream",
     "text": [
      "CPU times: user 33.6 ms, sys: 10.2 ms, total: 43.8 ms\n",
      "Wall time: 2.28 s\n"
     ]
    }
   ],
   "source": [
    "%%time\n",
    "from pyspark.ml.regression import DecisionTreeRegressor\n",
    "dt = DecisionTreeRegressor()\n",
    "dt_model = dt.fit(train_df)\n",
    "dt_predictions = dt_model.transform(test_df)"
   ]
  },
  {
   "cell_type": "code",
   "execution_count": 122,
   "metadata": {},
   "outputs": [
    {
     "name": "stdout",
     "output_type": "stream",
     "text": [
      "CPU times: user 39.2 ms, sys: 18.5 ms, total: 57.8 ms\n",
      "Wall time: 3.82 s\n"
     ]
    }
   ],
   "source": [
    "%%time\n",
    "from pyspark.ml.regression import RandomForestRegressor\n",
    "rf = RandomForestRegressor(numTrees=10)\n",
    "rf_model = rf.fit(train_df)\n",
    "rf_predictions = rf_model.transform(test_df)"
   ]
  },
  {
   "cell_type": "code",
   "execution_count": 123,
   "metadata": {},
   "outputs": [
    {
     "name": "stdout",
     "output_type": "stream",
     "text": [
      "CPU times: user 161 ms, sys: 55.9 ms, total: 217 ms\n",
      "Wall time: 21.8 s\n"
     ]
    }
   ],
   "source": [
    "%%time\n",
    "from pyspark.ml.regression import GBTRegressor\n",
    "gbt = GBTRegressor(maxIter=10)\n",
    "gbt_model = gbt.fit(train_df)\n",
    "gbt_predictions = gbt_model.transform(test_df)"
   ]
  },
  {
   "cell_type": "code",
   "execution_count": 124,
   "metadata": {},
   "outputs": [],
   "source": [
    "# Compute the performance for each model\n",
    "lr_result = model_performance(lr_predictions)\n",
    "glr_result = model_performance(glr_predictions)\n",
    "dt_result = model_performance(dt_predictions)\n",
    "rf_result = model_performance(rf_predictions)\n",
    "gbt_result = model_performance(gbt_predictions)"
   ]
  },
  {
   "cell_type": "code",
   "execution_count": 125,
   "metadata": {},
   "outputs": [
    {
     "data": {
      "text/html": [
       "<div>\n",
       "<style scoped>\n",
       "    .dataframe tbody tr th:only-of-type {\n",
       "        vertical-align: middle;\n",
       "    }\n",
       "\n",
       "    .dataframe tbody tr th {\n",
       "        vertical-align: top;\n",
       "    }\n",
       "\n",
       "    .dataframe thead th {\n",
       "        text-align: right;\n",
       "    }\n",
       "</style>\n",
       "<table border=\"1\" class=\"dataframe\">\n",
       "  <thead>\n",
       "    <tr style=\"text-align: right;\">\n",
       "      <th></th>\n",
       "      <th>rmse</th>\n",
       "      <th>r2</th>\n",
       "      <th>mae</th>\n",
       "    </tr>\n",
       "  </thead>\n",
       "  <tbody>\n",
       "    <tr>\n",
       "      <th>lr</th>\n",
       "      <td>9.457183</td>\n",
       "      <td>0.610708</td>\n",
       "      <td>7.332054</td>\n",
       "    </tr>\n",
       "    <tr>\n",
       "      <th>glr</th>\n",
       "      <td>9.457006</td>\n",
       "      <td>0.610722</td>\n",
       "      <td>7.332010</td>\n",
       "    </tr>\n",
       "    <tr>\n",
       "      <th>dt</th>\n",
       "      <td>11.896610</td>\n",
       "      <td>0.383974</td>\n",
       "      <td>9.456724</td>\n",
       "    </tr>\n",
       "    <tr>\n",
       "      <th>rf</th>\n",
       "      <td>11.673286</td>\n",
       "      <td>0.406885</td>\n",
       "      <td>9.502860</td>\n",
       "    </tr>\n",
       "    <tr>\n",
       "      <th>gbt</th>\n",
       "      <td>10.728685</td>\n",
       "      <td>0.498991</td>\n",
       "      <td>8.454744</td>\n",
       "    </tr>\n",
       "  </tbody>\n",
       "</table>\n",
       "</div>"
      ],
      "text/plain": [
       "          rmse        r2       mae\n",
       "lr    9.457183  0.610708  7.332054\n",
       "glr   9.457006  0.610722  7.332010\n",
       "dt   11.896610  0.383974  9.456724\n",
       "rf   11.673286  0.406885  9.502860\n",
       "gbt  10.728685  0.498991  8.454744"
      ]
     },
     "execution_count": 125,
     "metadata": {},
     "output_type": "execute_result"
    }
   ],
   "source": [
    "# Compare the performance for each model\n",
    "pd.DataFrame([lr_result,glr_result,dt_result,rf_result, gbt_result], \\\n",
    "             index=['lr', 'glr', 'dt', 'rf', 'gbt'], \\\n",
    "             columns=['rmse', 'r2', 'mae'])"
   ]
  },
  {
   "cell_type": "code",
   "execution_count": null,
   "metadata": {},
   "outputs": [],
   "source": []
  }
 ],
 "metadata": {
  "kernelspec": {
   "display_name": "Python 3",
   "language": "python",
   "name": "python3"
  },
  "language_info": {
   "codemirror_mode": {
    "name": "ipython",
    "version": 3
   },
   "file_extension": ".py",
   "mimetype": "text/x-python",
   "name": "python",
   "nbconvert_exporter": "python",
   "pygments_lexer": "ipython3",
   "version": "3.7.1"
  }
 },
 "nbformat": 4,
 "nbformat_minor": 2
}

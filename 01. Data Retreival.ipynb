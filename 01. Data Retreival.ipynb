{
 "cells": [
  {
   "cell_type": "markdown",
   "metadata": {},
   "source": [
    "# Data Retrieval"
   ]
  },
  {
   "cell_type": "code",
   "execution_count": 1,
   "metadata": {},
   "outputs": [],
   "source": [
    "# Hide all warnings\n",
    "import warnings\n",
    "warnings.filterwarnings('ignore')"
   ]
  },
  {
   "cell_type": "code",
   "execution_count": 2,
   "metadata": {},
   "outputs": [],
   "source": [
    "import numpy as np\n",
    "import pandas as pd\n",
    "import seaborn as sns\n",
    "import matplotlib.pyplot as plt"
   ]
  },
  {
   "cell_type": "code",
   "execution_count": 3,
   "metadata": {},
   "outputs": [],
   "source": [
    "pd.set_option('display.max_rows', 500)\n",
    "pd.set_option('display.max_columns', 500)\n",
    "pd.set_option('display.width', 1000)"
   ]
  },
  {
   "cell_type": "markdown",
   "metadata": {},
   "source": [
    "## Request Genre"
   ]
  },
  {
   "cell_type": "code",
   "execution_count": 4,
   "metadata": {},
   "outputs": [],
   "source": [
    "from SpotifyAPI import get_access_token, get_genre_seed\n",
    "access_token = get_access_token() # Get access token\n",
    "genre_seed = np.array(get_genre_seed(access_token)) # Get a list of genre"
   ]
  },
  {
   "cell_type": "code",
   "execution_count": 5,
   "metadata": {},
   "outputs": [
    {
     "data": {
      "text/plain": [
       "126"
      ]
     },
     "execution_count": 5,
     "metadata": {},
     "output_type": "execute_result"
    }
   ],
   "source": [
    "len(genre_seed)"
   ]
  },
  {
   "cell_type": "code",
   "execution_count": 6,
   "metadata": {},
   "outputs": [],
   "source": [
    "# Check if there are more than 10000 songs in that genre\n",
    "from SpotifyAPI import get_item\n",
    "genre_count = np.array([get_item(genre, 1, 9999, access_token)['tracks']['total'] for genre in genre_seed])\n",
    "\n",
    "# Keep the genres that have songs in the database\n",
    "genre_to_keep = genre_seed[genre_count > 0]\n",
    "genre_seed = [x for x in genre_seed if x in genre_to_keep]"
   ]
  },
  {
   "cell_type": "code",
   "execution_count": 7,
   "metadata": {},
   "outputs": [
    {
     "data": {
      "text/plain": [
       "91"
      ]
     },
     "execution_count": 7,
     "metadata": {},
     "output_type": "execute_result"
    }
   ],
   "source": [
    "len(genre_seed)"
   ]
  },
  {
   "cell_type": "markdown",
   "metadata": {},
   "source": [
    "## Request Song Data"
   ]
  },
  {
   "cell_type": "code",
   "execution_count": 8,
   "metadata": {},
   "outputs": [],
   "source": [
    "from SpotifyAPI import get_data\n",
    "max_offset = 10000\n",
    "max_limit = 50\n",
    "data = []"
   ]
  },
  {
   "cell_type": "code",
   "execution_count": 13,
   "metadata": {},
   "outputs": [
    {
     "name": "stdout",
     "output_type": "stream",
     "text": [
      "CPU times: user 5min 3s, sys: 20.6 s, total: 5min 23s\n",
      "Wall time: 1h 36s\n"
     ]
    }
   ],
   "source": [
    "%%time\n",
    "for x in range(0, max_offset, max_limit):\n",
    "    access_token = get_access_token()\n",
    "    for genre in genre_seed:\n",
    "        data += get_data(genre, max_limit, x, access_token)"
   ]
  },
  {
   "cell_type": "code",
   "execution_count": 15,
   "metadata": {},
   "outputs": [
    {
     "data": {
      "text/plain": [
       "913150"
      ]
     },
     "execution_count": 15,
     "metadata": {},
     "output_type": "execute_result"
    }
   ],
   "source": [
    "len(data)"
   ]
  },
  {
   "cell_type": "code",
   "execution_count": 25,
   "metadata": {},
   "outputs": [],
   "source": [
    "# Define the name for all variables\n",
    "var_to_use = [\n",
    "    'track_id', \n",
    "    'artists_id',\n",
    "    'album_id',\n",
    "    'track_name', \n",
    "    'artists_name', \n",
    "    'album_name',\n",
    "    'album_type', \n",
    "    'release_date', \n",
    "    'release_date_precision',    \n",
    "    'is_explicit', \n",
    "    'track_popularity',\n",
    "    'genre',\n",
    "    'danceability', \n",
    "    'energy', \n",
    "    'key', \n",
    "    'loudness', \n",
    "    'mode', \n",
    "    'speechiness', \n",
    "    'acousticness', \n",
    "    'instrumentalness', \n",
    "    'liveness', \n",
    "    'valence', \n",
    "    'tempo', \n",
    "    'duration_ms', \n",
    "    'time_signature'\n",
    "]"
   ]
  },
  {
   "cell_type": "code",
   "execution_count": 26,
   "metadata": {},
   "outputs": [],
   "source": [
    "df = pd.DataFrame(data, columns=var_to_use)"
   ]
  },
  {
   "cell_type": "markdown",
   "metadata": {},
   "source": [
    "## Get Number of Artist Follower"
   ]
  },
  {
   "cell_type": "code",
   "execution_count": 28,
   "metadata": {},
   "outputs": [],
   "source": [
    "# Divide a list into a list of N size list then join the strings within each list\n",
    "def chunk_split(chunk, limit):\n",
    "    num_iter = int(len(chunk) / limit) + 1\n",
    "    return [','.join(chunk[x*limit:(x+1)*limit]) for x in range(num_iter)]"
   ]
  },
  {
   "cell_type": "code",
   "execution_count": 43,
   "metadata": {},
   "outputs": [],
   "source": [
    "# Extract all the unique artist id and divide them into chunks of size 50\n",
    "artist_id = np.unique([item for x in df['artists_id'] for item in x.split(';')])\n",
    "artist_chunk = chunk_split(artist_id, 50)"
   ]
  },
  {
   "cell_type": "code",
   "execution_count": 49,
   "metadata": {},
   "outputs": [],
   "source": [
    "from SpotifyAPI import get_artist_total_follower\n",
    "access_token = get_access_token()"
   ]
  },
  {
   "cell_type": "code",
   "execution_count": 50,
   "metadata": {},
   "outputs": [
    {
     "name": "stdout",
     "output_type": "stream",
     "text": [
      "CPU times: user 26.4 s, sys: 1.93 s, total: 28.3 s\n",
      "Wall time: 3min 9s\n"
     ]
    }
   ],
   "source": [
    "%%time\n",
    "# Use spotify API to get number of follower for each unique artist\n",
    "artist_total_follower_chunk = [get_artist_total_follower(x, access_token) for x in artist_chunk]"
   ]
  },
  {
   "cell_type": "code",
   "execution_count": 62,
   "metadata": {},
   "outputs": [],
   "source": [
    "# Calculate the number of follower for each song by computing the max\n",
    "df['num_follower'] = df['artists_id'].apply(lambda row: max([get_num_follower[x] for x in row.split(';')]))"
   ]
  },
  {
   "cell_type": "code",
   "execution_count": 64,
   "metadata": {},
   "outputs": [],
   "source": [
    "df.to_csv('spotify_audio_feature.csv', index=False) # save the result of raw data"
   ]
  },
  {
   "cell_type": "code",
   "execution_count": null,
   "metadata": {},
   "outputs": [],
   "source": []
  }
 ],
 "metadata": {
  "kernelspec": {
   "display_name": "Python 3",
   "language": "python",
   "name": "python3"
  },
  "language_info": {
   "codemirror_mode": {
    "name": "ipython",
    "version": 3
   },
   "file_extension": ".py",
   "mimetype": "text/x-python",
   "name": "python",
   "nbconvert_exporter": "python",
   "pygments_lexer": "ipython3",
   "version": "3.7.1"
  }
 },
 "nbformat": 4,
 "nbformat_minor": 2
}

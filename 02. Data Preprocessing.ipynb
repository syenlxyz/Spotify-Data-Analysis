{
 "cells": [
  {
   "cell_type": "markdown",
   "metadata": {},
   "source": [
    "# Data Preprocessing"
   ]
  },
  {
   "cell_type": "code",
   "execution_count": 1,
   "metadata": {},
   "outputs": [],
   "source": [
    "# Hide all warnings\n",
    "import warnings\n",
    "warnings.filterwarnings('ignore')"
   ]
  },
  {
   "cell_type": "code",
   "execution_count": 2,
   "metadata": {},
   "outputs": [],
   "source": [
    "import numpy as np\n",
    "import pandas as pd\n",
    "import seaborn as sns\n",
    "import matplotlib.pyplot as plt"
   ]
  },
  {
   "cell_type": "code",
   "execution_count": 3,
   "metadata": {},
   "outputs": [],
   "source": [
    "pd.set_option('display.max_rows', 500)\n",
    "pd.set_option('display.max_columns', 500)\n",
    "pd.set_option('display.width', 1000)"
   ]
  },
  {
   "cell_type": "code",
   "execution_count": 4,
   "metadata": {},
   "outputs": [],
   "source": [
    "import os\n",
    "data_path = '/home/jovyan'\n",
    "filename = 'spotify_audio_feature.csv'\n",
    "path_to_data = os.path.join(data_path, filename)"
   ]
  },
  {
   "cell_type": "code",
   "execution_count": 5,
   "metadata": {},
   "outputs": [],
   "source": [
    "df = pd.read_csv(path_to_data)"
   ]
  },
  {
   "cell_type": "code",
   "execution_count": 6,
   "metadata": {},
   "outputs": [
    {
     "data": {
      "text/html": [
       "<div>\n",
       "<style scoped>\n",
       "    .dataframe tbody tr th:only-of-type {\n",
       "        vertical-align: middle;\n",
       "    }\n",
       "\n",
       "    .dataframe tbody tr th {\n",
       "        vertical-align: top;\n",
       "    }\n",
       "\n",
       "    .dataframe thead th {\n",
       "        text-align: right;\n",
       "    }\n",
       "</style>\n",
       "<table border=\"1\" class=\"dataframe\">\n",
       "  <thead>\n",
       "    <tr style=\"text-align: right;\">\n",
       "      <th></th>\n",
       "      <th>track_id</th>\n",
       "      <th>artists_id</th>\n",
       "      <th>album_id</th>\n",
       "      <th>track_name</th>\n",
       "      <th>artists_name</th>\n",
       "      <th>album_name</th>\n",
       "      <th>album_type</th>\n",
       "      <th>release_date</th>\n",
       "      <th>release_date_precision</th>\n",
       "      <th>is_explicit</th>\n",
       "      <th>track_popularity</th>\n",
       "      <th>genre</th>\n",
       "      <th>danceability</th>\n",
       "      <th>energy</th>\n",
       "      <th>key</th>\n",
       "      <th>loudness</th>\n",
       "      <th>mode</th>\n",
       "      <th>speechiness</th>\n",
       "      <th>acousticness</th>\n",
       "      <th>instrumentalness</th>\n",
       "      <th>liveness</th>\n",
       "      <th>valence</th>\n",
       "      <th>tempo</th>\n",
       "      <th>duration_ms</th>\n",
       "      <th>time_signature</th>\n",
       "      <th>num_follower</th>\n",
       "    </tr>\n",
       "  </thead>\n",
       "  <tbody>\n",
       "    <tr>\n",
       "      <th>0</th>\n",
       "      <td>1EzrEOXmMH3G43AXT1y7pA</td>\n",
       "      <td>4phGZZrJZRo4ElhRtViYdl</td>\n",
       "      <td>04G0YylSjvDQZrjOfE5jA5</td>\n",
       "      <td>I'm Yours</td>\n",
       "      <td>Jason Mraz</td>\n",
       "      <td>We Sing. We Dance. We Steal Things.</td>\n",
       "      <td>album</td>\n",
       "      <td>2008-05-12</td>\n",
       "      <td>day</td>\n",
       "      <td>False</td>\n",
       "      <td>85</td>\n",
       "      <td>acoustic</td>\n",
       "      <td>0.686</td>\n",
       "      <td>0.457</td>\n",
       "      <td>11</td>\n",
       "      <td>-8.322</td>\n",
       "      <td>1</td>\n",
       "      <td>0.0468</td>\n",
       "      <td>0.595</td>\n",
       "      <td>0.0</td>\n",
       "      <td>0.1050</td>\n",
       "      <td>0.718</td>\n",
       "      <td>150.953</td>\n",
       "      <td>242187</td>\n",
       "      <td>4</td>\n",
       "      <td>4174839</td>\n",
       "    </tr>\n",
       "    <tr>\n",
       "      <th>1</th>\n",
       "      <td>5vjLSffimiIP26QG5WcN2K</td>\n",
       "      <td>5D3muNJhYYunbRkh3FKgX0</td>\n",
       "      <td>2EfmyRWheMtmVTCIsptsLi</td>\n",
       "      <td>Hold On</td>\n",
       "      <td>Chord Overstreet</td>\n",
       "      <td>Hold On</td>\n",
       "      <td>single</td>\n",
       "      <td>2017-02-03</td>\n",
       "      <td>day</td>\n",
       "      <td>False</td>\n",
       "      <td>77</td>\n",
       "      <td>acoustic</td>\n",
       "      <td>0.608</td>\n",
       "      <td>0.445</td>\n",
       "      <td>2</td>\n",
       "      <td>-9.551</td>\n",
       "      <td>1</td>\n",
       "      <td>0.0550</td>\n",
       "      <td>0.497</td>\n",
       "      <td>0.0</td>\n",
       "      <td>0.0802</td>\n",
       "      <td>0.189</td>\n",
       "      <td>119.886</td>\n",
       "      <td>198853</td>\n",
       "      <td>4</td>\n",
       "      <td>9693</td>\n",
       "    </tr>\n",
       "    <tr>\n",
       "      <th>2</th>\n",
       "      <td>0IktbUcnAGrvD03AWnz3Q8</td>\n",
       "      <td>4phGZZrJZRo4ElhRtViYdl;6aZyMrc4doVtZyKNilOmwu</td>\n",
       "      <td>04G0YylSjvDQZrjOfE5jA5</td>\n",
       "      <td>Lucky</td>\n",
       "      <td>Jason Mraz;Colbie Caillat</td>\n",
       "      <td>We Sing. We Dance. We Steal Things.</td>\n",
       "      <td>album</td>\n",
       "      <td>2008-05-12</td>\n",
       "      <td>day</td>\n",
       "      <td>False</td>\n",
       "      <td>80</td>\n",
       "      <td>acoustic</td>\n",
       "      <td>0.623</td>\n",
       "      <td>0.417</td>\n",
       "      <td>0</td>\n",
       "      <td>-8.699</td>\n",
       "      <td>1</td>\n",
       "      <td>0.0354</td>\n",
       "      <td>0.296</td>\n",
       "      <td>0.0</td>\n",
       "      <td>0.1350</td>\n",
       "      <td>0.721</td>\n",
       "      <td>130.032</td>\n",
       "      <td>191360</td>\n",
       "      <td>4</td>\n",
       "      <td>4174839</td>\n",
       "    </tr>\n",
       "    <tr>\n",
       "      <th>3</th>\n",
       "      <td>53QF56cjZA9RTuuMZDrSA6</td>\n",
       "      <td>4phGZZrJZRo4ElhRtViYdl</td>\n",
       "      <td>64SChsjQBiEe3aVTFYnW1b</td>\n",
       "      <td>I Won't Give Up</td>\n",
       "      <td>Jason Mraz</td>\n",
       "      <td>Love Is A Four Letter Word (Deluxe)</td>\n",
       "      <td>album</td>\n",
       "      <td>2012-04-13</td>\n",
       "      <td>day</td>\n",
       "      <td>False</td>\n",
       "      <td>72</td>\n",
       "      <td>acoustic</td>\n",
       "      <td>0.585</td>\n",
       "      <td>0.303</td>\n",
       "      <td>4</td>\n",
       "      <td>-10.058</td>\n",
       "      <td>1</td>\n",
       "      <td>0.0398</td>\n",
       "      <td>0.694</td>\n",
       "      <td>0.0</td>\n",
       "      <td>0.1150</td>\n",
       "      <td>0.142</td>\n",
       "      <td>136.703</td>\n",
       "      <td>240166</td>\n",
       "      <td>3</td>\n",
       "      <td>4174839</td>\n",
       "    </tr>\n",
       "    <tr>\n",
       "      <th>4</th>\n",
       "      <td>38YgZVHPWOWsKrsCXz6JyP</td>\n",
       "      <td>4NGiEU3Pkd8ASRyQR30jcA</td>\n",
       "      <td>45A2E1YR00sPSwxJw5d3qu</td>\n",
       "      <td>Come On Get Higher</td>\n",
       "      <td>Matt Nathanson</td>\n",
       "      <td>Some Mad Hope</td>\n",
       "      <td>album</td>\n",
       "      <td>2007-01-01</td>\n",
       "      <td>day</td>\n",
       "      <td>False</td>\n",
       "      <td>72</td>\n",
       "      <td>acoustic</td>\n",
       "      <td>0.672</td>\n",
       "      <td>0.623</td>\n",
       "      <td>9</td>\n",
       "      <td>-5.699</td>\n",
       "      <td>1</td>\n",
       "      <td>0.0297</td>\n",
       "      <td>0.241</td>\n",
       "      <td>0.0</td>\n",
       "      <td>0.0848</td>\n",
       "      <td>0.617</td>\n",
       "      <td>92.018</td>\n",
       "      <td>215173</td>\n",
       "      <td>4</td>\n",
       "      <td>235394</td>\n",
       "    </tr>\n",
       "  </tbody>\n",
       "</table>\n",
       "</div>"
      ],
      "text/plain": [
       "                 track_id                                     artists_id                album_id          track_name               artists_name                           album_name album_type release_date release_date_precision  is_explicit  track_popularity     genre  danceability  energy  key  loudness  mode  speechiness  acousticness  instrumentalness  liveness  valence    tempo  duration_ms  time_signature  num_follower\n",
       "0  1EzrEOXmMH3G43AXT1y7pA                         4phGZZrJZRo4ElhRtViYdl  04G0YylSjvDQZrjOfE5jA5           I'm Yours                 Jason Mraz  We Sing. We Dance. We Steal Things.      album   2008-05-12                    day        False                85  acoustic         0.686   0.457   11    -8.322     1       0.0468         0.595               0.0    0.1050    0.718  150.953       242187               4       4174839\n",
       "1  5vjLSffimiIP26QG5WcN2K                         5D3muNJhYYunbRkh3FKgX0  2EfmyRWheMtmVTCIsptsLi             Hold On           Chord Overstreet                              Hold On     single   2017-02-03                    day        False                77  acoustic         0.608   0.445    2    -9.551     1       0.0550         0.497               0.0    0.0802    0.189  119.886       198853               4          9693\n",
       "2  0IktbUcnAGrvD03AWnz3Q8  4phGZZrJZRo4ElhRtViYdl;6aZyMrc4doVtZyKNilOmwu  04G0YylSjvDQZrjOfE5jA5               Lucky  Jason Mraz;Colbie Caillat  We Sing. We Dance. We Steal Things.      album   2008-05-12                    day        False                80  acoustic         0.623   0.417    0    -8.699     1       0.0354         0.296               0.0    0.1350    0.721  130.032       191360               4       4174839\n",
       "3  53QF56cjZA9RTuuMZDrSA6                         4phGZZrJZRo4ElhRtViYdl  64SChsjQBiEe3aVTFYnW1b     I Won't Give Up                 Jason Mraz  Love Is A Four Letter Word (Deluxe)      album   2012-04-13                    day        False                72  acoustic         0.585   0.303    4   -10.058     1       0.0398         0.694               0.0    0.1150    0.142  136.703       240166               3       4174839\n",
       "4  38YgZVHPWOWsKrsCXz6JyP                         4NGiEU3Pkd8ASRyQR30jcA  45A2E1YR00sPSwxJw5d3qu  Come On Get Higher             Matt Nathanson                        Some Mad Hope      album   2007-01-01                    day        False                72  acoustic         0.672   0.623    9    -5.699     1       0.0297         0.241               0.0    0.0848    0.617   92.018       215173               4        235394"
      ]
     },
     "execution_count": 6,
     "metadata": {},
     "output_type": "execute_result"
    }
   ],
   "source": [
    "df.head()"
   ]
  },
  {
   "cell_type": "code",
   "execution_count": 7,
   "metadata": {},
   "outputs": [
    {
     "data": {
      "text/plain": [
       "(913150, 26)"
      ]
     },
     "execution_count": 7,
     "metadata": {},
     "output_type": "execute_result"
    }
   ],
   "source": [
    "df.shape"
   ]
  },
  {
   "cell_type": "markdown",
   "metadata": {},
   "source": [
    "## Remove duplicates"
   ]
  },
  {
   "cell_type": "code",
   "execution_count": 8,
   "metadata": {},
   "outputs": [],
   "source": [
    "# Remove duplicated rows\n",
    "df = df.drop_duplicates()"
   ]
  },
  {
   "cell_type": "code",
   "execution_count": 9,
   "metadata": {},
   "outputs": [
    {
     "data": {
      "text/plain": [
       "(909241, 26)"
      ]
     },
     "execution_count": 9,
     "metadata": {},
     "output_type": "execute_result"
    }
   ],
   "source": [
    "df.shape"
   ]
  },
  {
   "cell_type": "markdown",
   "metadata": {},
   "source": [
    "## Handle Missing values"
   ]
  },
  {
   "cell_type": "code",
   "execution_count": 10,
   "metadata": {},
   "outputs": [
    {
     "data": {
      "text/plain": [
       "track_id                  0\n",
       "artists_id                0\n",
       "album_id                  0\n",
       "track_name                2\n",
       "artists_name              0\n",
       "album_name                2\n",
       "album_type                0\n",
       "release_date              0\n",
       "release_date_precision    0\n",
       "is_explicit               0\n",
       "track_popularity          0\n",
       "genre                     0\n",
       "danceability              0\n",
       "energy                    0\n",
       "key                       0\n",
       "loudness                  0\n",
       "mode                      0\n",
       "speechiness               0\n",
       "acousticness              0\n",
       "instrumentalness          0\n",
       "liveness                  0\n",
       "valence                   0\n",
       "tempo                     0\n",
       "duration_ms               0\n",
       "time_signature            0\n",
       "num_follower              0\n",
       "dtype: int64"
      ]
     },
     "execution_count": 10,
     "metadata": {},
     "output_type": "execute_result"
    }
   ],
   "source": [
    "# Check for missing value\n",
    "df.isna().sum()"
   ]
  },
  {
   "cell_type": "code",
   "execution_count": 11,
   "metadata": {},
   "outputs": [],
   "source": [
    "df = df.dropna() # Drop missing value"
   ]
  },
  {
   "cell_type": "code",
   "execution_count": 12,
   "metadata": {},
   "outputs": [
    {
     "data": {
      "text/plain": [
       "(909238, 26)"
      ]
     },
     "execution_count": 12,
     "metadata": {},
     "output_type": "execute_result"
    }
   ],
   "source": [
    "df.shape"
   ]
  },
  {
   "cell_type": "markdown",
   "metadata": {},
   "source": [
    "## Collect genres as lists"
   ]
  },
  {
   "cell_type": "code",
   "execution_count": 13,
   "metadata": {},
   "outputs": [],
   "source": [
    "# Merge track that has more than one genre\n",
    "genre_df = df.groupby('track_id')['genre'].apply(list)\n",
    "genre_df = pd.DataFrame(genre_df).reset_index()"
   ]
  },
  {
   "cell_type": "code",
   "execution_count": 14,
   "metadata": {},
   "outputs": [],
   "source": [
    "# Drop the column and keep all the unique track than merge with series of genre list\n",
    "df = df.drop(columns='genre').drop_duplicates().merge(genre_df, on='track_id').dropna()"
   ]
  },
  {
   "cell_type": "code",
   "execution_count": 15,
   "metadata": {},
   "outputs": [
    {
     "data": {
      "text/plain": [
       "(659359, 26)"
      ]
     },
     "execution_count": 15,
     "metadata": {},
     "output_type": "execute_result"
    }
   ],
   "source": [
    "df.shape"
   ]
  },
  {
   "cell_type": "markdown",
   "metadata": {},
   "source": [
    "## Filtering Release Date Precision"
   ]
  },
  {
   "cell_type": "code",
   "execution_count": 16,
   "metadata": {},
   "outputs": [
    {
     "data": {
      "text/plain": [
       "release_date_precision\n",
       "day      617201\n",
       "month        25\n",
       "year      42133\n",
       "Name: track_id, dtype: int64"
      ]
     },
     "execution_count": 16,
     "metadata": {},
     "output_type": "execute_result"
    }
   ],
   "source": [
    "# Check count of songs by release date precision\n",
    "df.groupby('release_date_precision').count()['track_id']"
   ]
  },
  {
   "cell_type": "code",
   "execution_count": 17,
   "metadata": {},
   "outputs": [],
   "source": [
    "# Keep release date precision in day for feature creation\n",
    "df = df[df['release_date_precision'] == 'day']"
   ]
  },
  {
   "cell_type": "code",
   "execution_count": 18,
   "metadata": {},
   "outputs": [
    {
     "data": {
      "text/plain": [
       "(617201, 26)"
      ]
     },
     "execution_count": 18,
     "metadata": {},
     "output_type": "execute_result"
    }
   ],
   "source": [
    "df.shape"
   ]
  },
  {
   "cell_type": "markdown",
   "metadata": {},
   "source": [
    "## Creation of New Variable: Song Age"
   ]
  },
  {
   "cell_type": "code",
   "execution_count": 19,
   "metadata": {},
   "outputs": [],
   "source": [
    "from datetime import date, datetime\n",
    "reference_date = date(2019, 3, 15)\n",
    "date_format = '%Y-%m-%d'"
   ]
  },
  {
   "cell_type": "code",
   "execution_count": 20,
   "metadata": {},
   "outputs": [],
   "source": [
    "# Convert date string into datetime format then create song age\n",
    "df['release_date'] = df['release_date'].apply(lambda x: datetime.strptime(x, date_format).date())\n",
    "df['song_age'] = df['release_date'].apply(lambda release_date: (reference_date - release_date).total_seconds() /60/60/24)"
   ]
  },
  {
   "cell_type": "code",
   "execution_count": 21,
   "metadata": {},
   "outputs": [
    {
     "data": {
      "text/plain": [
       "0    3959.0\n",
       "1     770.0\n",
       "2    3959.0\n",
       "3    2527.0\n",
       "4    4456.0\n",
       "Name: song_age, dtype: float64"
      ]
     },
     "execution_count": 21,
     "metadata": {},
     "output_type": "execute_result"
    }
   ],
   "source": [
    "df['song_age'].head()"
   ]
  },
  {
   "cell_type": "code",
   "execution_count": 22,
   "metadata": {},
   "outputs": [
    {
     "data": {
      "text/plain": [
       "1179"
      ]
     },
     "execution_count": 22,
     "metadata": {},
     "output_type": "execute_result"
    }
   ],
   "source": [
    "(df['song_age'] < 0).sum()"
   ]
  },
  {
   "cell_type": "code",
   "execution_count": 23,
   "metadata": {},
   "outputs": [
    {
     "data": {
      "text/plain": [
       "54500    2019-03-22\n",
       "56103    2019-03-27\n",
       "56104    2019-03-20\n",
       "62057    2019-07-15\n",
       "68892    2019-06-30\n",
       "Name: release_date, dtype: object"
      ]
     },
     "execution_count": 23,
     "metadata": {},
     "output_type": "execute_result"
    }
   ],
   "source": [
    "df[df['song_age'] < 0]['release_date'].head()"
   ]
  },
  {
   "cell_type": "markdown",
   "metadata": {},
   "source": [
    "Since there are songs with release date in the future, there must be something wrong with the date. So, we remove the data with negative song age."
   ]
  },
  {
   "cell_type": "code",
   "execution_count": 24,
   "metadata": {},
   "outputs": [],
   "source": [
    "df = df[df['song_age'] > 0]"
   ]
  },
  {
   "cell_type": "code",
   "execution_count": 25,
   "metadata": {},
   "outputs": [
    {
     "data": {
      "text/plain": [
       "(612073, 27)"
      ]
     },
     "execution_count": 25,
     "metadata": {},
     "output_type": "execute_result"
    }
   ],
   "source": [
    "df.shape"
   ]
  },
  {
   "cell_type": "markdown",
   "metadata": {},
   "source": [
    "## Filtering track popularity "
   ]
  },
  {
   "cell_type": "code",
   "execution_count": 26,
   "metadata": {},
   "outputs": [
    {
     "data": {
      "text/plain": [
       "track_popularity\n",
       "0    33969\n",
       "1     7416\n",
       "2     4974\n",
       "3     4516\n",
       "4     4642\n",
       "Name: track_id, dtype: int64"
      ]
     },
     "execution_count": 26,
     "metadata": {},
     "output_type": "execute_result"
    }
   ],
   "source": [
    "# Check count of track popularity\n",
    "df.groupby('track_popularity')['track_id'].count().head()"
   ]
  },
  {
   "cell_type": "code",
   "execution_count": 27,
   "metadata": {},
   "outputs": [
    {
     "data": {
      "image/png": "[encoded data removed]",
      "text/plain": [
       "<Figure size 432x288 with 1 Axes>"
      ]
     },
     "metadata": {
      "needs_background": "light"
     },
     "output_type": "display_data"
    }
   ],
   "source": [
    "# Plot histogram for track popularity\n",
    "df['track_popularity'].hist(bins=50)\n",
    "plt.show()"
   ]
  },
  {
   "cell_type": "code",
   "execution_count": 28,
   "metadata": {},
   "outputs": [],
   "source": [
    "# Remove the songs with low popularity\n",
    "df = df[df['track_popularity'] > 0]"
   ]
  },
  {
   "cell_type": "code",
   "execution_count": 29,
   "metadata": {},
   "outputs": [
    {
     "data": {
      "text/plain": [
       "(578104, 27)"
      ]
     },
     "execution_count": 29,
     "metadata": {},
     "output_type": "execute_result"
    }
   ],
   "source": [
    "df.shape"
   ]
  },
  {
   "cell_type": "code",
   "execution_count": 30,
   "metadata": {},
   "outputs": [
    {
     "data": {
      "image/png": "[encoded data removed]",
      "text/plain": [
       "<Figure size 432x288 with 1 Axes>"
      ]
     },
     "metadata": {
      "needs_background": "light"
     },
     "output_type": "display_data"
    }
   ],
   "source": [
    "# Plot histogram for track popularity\n",
    "df['track_popularity'].hist(bins=50)\n",
    "plt.show()"
   ]
  },
  {
   "cell_type": "markdown",
   "metadata": {},
   "source": [
    "## Manual one-hot encoding for genre"
   ]
  },
  {
   "cell_type": "code",
   "execution_count": 31,
   "metadata": {},
   "outputs": [],
   "source": [
    "# Extract all genres from the dataset\n",
    "genre_list = sorted(set([item for x in df['genre'] for item in x]))\n",
    "genre_data = df['genre'].apply(lambda row: [1 if x in row else 0 for x in genre_list]).tolist()\n",
    "genre_df = pd.DataFrame(genre_data, columns=genre_list)"
   ]
  },
  {
   "cell_type": "code",
   "execution_count": 32,
   "metadata": {},
   "outputs": [],
   "source": [
    "df = df.merge(genre_df, on=df.index)"
   ]
  },
  {
   "cell_type": "code",
   "execution_count": 33,
   "metadata": {},
   "outputs": [
    {
     "data": {
      "text/plain": [
       "(578104, 119)"
      ]
     },
     "execution_count": 33,
     "metadata": {},
     "output_type": "execute_result"
    }
   ],
   "source": [
    "df.shape"
   ]
  },
  {
   "cell_type": "code",
   "execution_count": 34,
   "metadata": {},
   "outputs": [],
   "source": [
    "# Remove unimportant variables for analysis\n",
    "var_to_drop = ['key_0', 'artists_id', 'album_id', 'album_id', \n",
    "               'track_name', 'artists_name', 'album_name', \n",
    "               'release_date_precision', 'genre']\n",
    "df = df.drop(columns=var_to_drop)"
   ]
  },
  {
   "cell_type": "code",
   "execution_count": 35,
   "metadata": {},
   "outputs": [
    {
     "data": {
      "text/plain": [
       "(578104, 111)"
      ]
     },
     "execution_count": 35,
     "metadata": {},
     "output_type": "execute_result"
    }
   ],
   "source": [
    "df.shape"
   ]
  },
  {
   "cell_type": "code",
   "execution_count": 36,
   "metadata": {},
   "outputs": [
    {
     "data": {
      "text/html": [
       "<div>\n",
       "<style scoped>\n",
       "    .dataframe tbody tr th:only-of-type {\n",
       "        vertical-align: middle;\n",
       "    }\n",
       "\n",
       "    .dataframe tbody tr th {\n",
       "        vertical-align: top;\n",
       "    }\n",
       "\n",
       "    .dataframe thead th {\n",
       "        text-align: right;\n",
       "    }\n",
       "</style>\n",
       "<table border=\"1\" class=\"dataframe\">\n",
       "  <thead>\n",
       "    <tr style=\"text-align: right;\">\n",
       "      <th></th>\n",
       "      <th>track_id</th>\n",
       "      <th>album_type</th>\n",
       "      <th>release_date</th>\n",
       "      <th>is_explicit</th>\n",
       "      <th>track_popularity</th>\n",
       "      <th>danceability</th>\n",
       "      <th>energy</th>\n",
       "      <th>key</th>\n",
       "      <th>loudness</th>\n",
       "      <th>mode</th>\n",
       "      <th>speechiness</th>\n",
       "      <th>acousticness</th>\n",
       "      <th>instrumentalness</th>\n",
       "      <th>liveness</th>\n",
       "      <th>valence</th>\n",
       "      <th>tempo</th>\n",
       "      <th>duration_ms</th>\n",
       "      <th>time_signature</th>\n",
       "      <th>num_follower</th>\n",
       "      <th>song_age</th>\n",
       "      <th>acoustic</th>\n",
       "      <th>afrobeat</th>\n",
       "      <th>alternative</th>\n",
       "      <th>ambient</th>\n",
       "      <th>anime</th>\n",
       "      <th>black-metal</th>\n",
       "      <th>bluegrass</th>\n",
       "      <th>blues</th>\n",
       "      <th>british</th>\n",
       "      <th>cantopop</th>\n",
       "      <th>chicago-house</th>\n",
       "      <th>chill</th>\n",
       "      <th>classical</th>\n",
       "      <th>comedy</th>\n",
       "      <th>country</th>\n",
       "      <th>dance</th>\n",
       "      <th>dancehall</th>\n",
       "      <th>death-metal</th>\n",
       "      <th>deep-house</th>\n",
       "      <th>detroit-techno</th>\n",
       "      <th>disco</th>\n",
       "      <th>drum-and-bass</th>\n",
       "      <th>dub</th>\n",
       "      <th>dubstep</th>\n",
       "      <th>edm</th>\n",
       "      <th>electro</th>\n",
       "      <th>electronic</th>\n",
       "      <th>emo</th>\n",
       "      <th>folk</th>\n",
       "      <th>forro</th>\n",
       "      <th>french</th>\n",
       "      <th>funk</th>\n",
       "      <th>garage</th>\n",
       "      <th>german</th>\n",
       "      <th>gospel</th>\n",
       "      <th>groove</th>\n",
       "      <th>grunge</th>\n",
       "      <th>guitar</th>\n",
       "      <th>happy</th>\n",
       "      <th>hard-rock</th>\n",
       "      <th>hardcore</th>\n",
       "      <th>hardstyle</th>\n",
       "      <th>hip-hop</th>\n",
       "      <th>house</th>\n",
       "      <th>idm</th>\n",
       "      <th>indian</th>\n",
       "      <th>indie</th>\n",
       "      <th>indie-pop</th>\n",
       "      <th>industrial</th>\n",
       "      <th>j-idol</th>\n",
       "      <th>j-pop</th>\n",
       "      <th>j-rock</th>\n",
       "      <th>jazz</th>\n",
       "      <th>k-pop</th>\n",
       "      <th>latin</th>\n",
       "      <th>mandopop</th>\n",
       "      <th>metal</th>\n",
       "      <th>metalcore</th>\n",
       "      <th>minimal-techno</th>\n",
       "      <th>mpb</th>\n",
       "      <th>new-age</th>\n",
       "      <th>opera</th>\n",
       "      <th>pagode</th>\n",
       "      <th>piano</th>\n",
       "      <th>pop</th>\n",
       "      <th>power-pop</th>\n",
       "      <th>progressive-house</th>\n",
       "      <th>psych-rock</th>\n",
       "      <th>punk</th>\n",
       "      <th>punk-rock</th>\n",
       "      <th>reggae</th>\n",
       "      <th>reggaeton</th>\n",
       "      <th>rock</th>\n",
       "      <th>rockabilly</th>\n",
       "      <th>salsa</th>\n",
       "      <th>samba</th>\n",
       "      <th>sertanejo</th>\n",
       "      <th>show-tunes</th>\n",
       "      <th>singer-songwriter</th>\n",
       "      <th>ska</th>\n",
       "      <th>sleep</th>\n",
       "      <th>songwriter</th>\n",
       "      <th>soul</th>\n",
       "      <th>spanish</th>\n",
       "      <th>swedish</th>\n",
       "      <th>tango</th>\n",
       "      <th>techno</th>\n",
       "      <th>trance</th>\n",
       "      <th>trip-hop</th>\n",
       "      <th>turkish</th>\n",
       "      <th>world-music</th>\n",
       "    </tr>\n",
       "  </thead>\n",
       "  <tbody>\n",
       "    <tr>\n",
       "      <th>0</th>\n",
       "      <td>1EzrEOXmMH3G43AXT1y7pA</td>\n",
       "      <td>album</td>\n",
       "      <td>2008-05-12</td>\n",
       "      <td>False</td>\n",
       "      <td>85</td>\n",
       "      <td>0.686</td>\n",
       "      <td>0.457</td>\n",
       "      <td>11</td>\n",
       "      <td>-8.322</td>\n",
       "      <td>1</td>\n",
       "      <td>0.0468</td>\n",
       "      <td>0.595</td>\n",
       "      <td>0.0</td>\n",
       "      <td>0.1050</td>\n",
       "      <td>0.718</td>\n",
       "      <td>150.953</td>\n",
       "      <td>242187</td>\n",
       "      <td>4</td>\n",
       "      <td>4174839</td>\n",
       "      <td>3959.0</td>\n",
       "      <td>1</td>\n",
       "      <td>0</td>\n",
       "      <td>0</td>\n",
       "      <td>0</td>\n",
       "      <td>0</td>\n",
       "      <td>0</td>\n",
       "      <td>0</td>\n",
       "      <td>0</td>\n",
       "      <td>0</td>\n",
       "      <td>0</td>\n",
       "      <td>0</td>\n",
       "      <td>0</td>\n",
       "      <td>0</td>\n",
       "      <td>0</td>\n",
       "      <td>0</td>\n",
       "      <td>0</td>\n",
       "      <td>0</td>\n",
       "      <td>0</td>\n",
       "      <td>0</td>\n",
       "      <td>0</td>\n",
       "      <td>0</td>\n",
       "      <td>0</td>\n",
       "      <td>0</td>\n",
       "      <td>0</td>\n",
       "      <td>0</td>\n",
       "      <td>0</td>\n",
       "      <td>0</td>\n",
       "      <td>0</td>\n",
       "      <td>0</td>\n",
       "      <td>0</td>\n",
       "      <td>0</td>\n",
       "      <td>0</td>\n",
       "      <td>0</td>\n",
       "      <td>0</td>\n",
       "      <td>0</td>\n",
       "      <td>0</td>\n",
       "      <td>0</td>\n",
       "      <td>0</td>\n",
       "      <td>0</td>\n",
       "      <td>0</td>\n",
       "      <td>0</td>\n",
       "      <td>0</td>\n",
       "      <td>0</td>\n",
       "      <td>0</td>\n",
       "      <td>0</td>\n",
       "      <td>0</td>\n",
       "      <td>0</td>\n",
       "      <td>0</td>\n",
       "      <td>0</td>\n",
       "      <td>0</td>\n",
       "      <td>0</td>\n",
       "      <td>0</td>\n",
       "      <td>0</td>\n",
       "      <td>0</td>\n",
       "      <td>0</td>\n",
       "      <td>0</td>\n",
       "      <td>0</td>\n",
       "      <td>0</td>\n",
       "      <td>0</td>\n",
       "      <td>0</td>\n",
       "      <td>0</td>\n",
       "      <td>0</td>\n",
       "      <td>0</td>\n",
       "      <td>0</td>\n",
       "      <td>1</td>\n",
       "      <td>0</td>\n",
       "      <td>0</td>\n",
       "      <td>0</td>\n",
       "      <td>0</td>\n",
       "      <td>0</td>\n",
       "      <td>0</td>\n",
       "      <td>0</td>\n",
       "      <td>1</td>\n",
       "      <td>0</td>\n",
       "      <td>0</td>\n",
       "      <td>0</td>\n",
       "      <td>0</td>\n",
       "      <td>0</td>\n",
       "      <td>0</td>\n",
       "      <td>0</td>\n",
       "      <td>0</td>\n",
       "      <td>0</td>\n",
       "      <td>0</td>\n",
       "      <td>0</td>\n",
       "      <td>0</td>\n",
       "      <td>0</td>\n",
       "      <td>0</td>\n",
       "      <td>0</td>\n",
       "      <td>0</td>\n",
       "      <td>0</td>\n",
       "      <td>0</td>\n",
       "    </tr>\n",
       "    <tr>\n",
       "      <th>1</th>\n",
       "      <td>5vjLSffimiIP26QG5WcN2K</td>\n",
       "      <td>single</td>\n",
       "      <td>2017-02-03</td>\n",
       "      <td>False</td>\n",
       "      <td>77</td>\n",
       "      <td>0.608</td>\n",
       "      <td>0.445</td>\n",
       "      <td>2</td>\n",
       "      <td>-9.551</td>\n",
       "      <td>1</td>\n",
       "      <td>0.0550</td>\n",
       "      <td>0.497</td>\n",
       "      <td>0.0</td>\n",
       "      <td>0.0802</td>\n",
       "      <td>0.189</td>\n",
       "      <td>119.886</td>\n",
       "      <td>198853</td>\n",
       "      <td>4</td>\n",
       "      <td>9693</td>\n",
       "      <td>770.0</td>\n",
       "      <td>1</td>\n",
       "      <td>0</td>\n",
       "      <td>0</td>\n",
       "      <td>0</td>\n",
       "      <td>0</td>\n",
       "      <td>0</td>\n",
       "      <td>0</td>\n",
       "      <td>0</td>\n",
       "      <td>0</td>\n",
       "      <td>0</td>\n",
       "      <td>0</td>\n",
       "      <td>0</td>\n",
       "      <td>0</td>\n",
       "      <td>0</td>\n",
       "      <td>1</td>\n",
       "      <td>0</td>\n",
       "      <td>0</td>\n",
       "      <td>0</td>\n",
       "      <td>0</td>\n",
       "      <td>0</td>\n",
       "      <td>0</td>\n",
       "      <td>0</td>\n",
       "      <td>0</td>\n",
       "      <td>0</td>\n",
       "      <td>0</td>\n",
       "      <td>0</td>\n",
       "      <td>0</td>\n",
       "      <td>0</td>\n",
       "      <td>0</td>\n",
       "      <td>0</td>\n",
       "      <td>0</td>\n",
       "      <td>0</td>\n",
       "      <td>0</td>\n",
       "      <td>0</td>\n",
       "      <td>0</td>\n",
       "      <td>0</td>\n",
       "      <td>0</td>\n",
       "      <td>0</td>\n",
       "      <td>0</td>\n",
       "      <td>0</td>\n",
       "      <td>0</td>\n",
       "      <td>0</td>\n",
       "      <td>0</td>\n",
       "      <td>0</td>\n",
       "      <td>0</td>\n",
       "      <td>0</td>\n",
       "      <td>0</td>\n",
       "      <td>0</td>\n",
       "      <td>0</td>\n",
       "      <td>0</td>\n",
       "      <td>0</td>\n",
       "      <td>0</td>\n",
       "      <td>0</td>\n",
       "      <td>0</td>\n",
       "      <td>0</td>\n",
       "      <td>0</td>\n",
       "      <td>0</td>\n",
       "      <td>0</td>\n",
       "      <td>0</td>\n",
       "      <td>0</td>\n",
       "      <td>0</td>\n",
       "      <td>0</td>\n",
       "      <td>0</td>\n",
       "      <td>0</td>\n",
       "      <td>1</td>\n",
       "      <td>0</td>\n",
       "      <td>0</td>\n",
       "      <td>0</td>\n",
       "      <td>0</td>\n",
       "      <td>0</td>\n",
       "      <td>0</td>\n",
       "      <td>0</td>\n",
       "      <td>0</td>\n",
       "      <td>0</td>\n",
       "      <td>0</td>\n",
       "      <td>0</td>\n",
       "      <td>0</td>\n",
       "      <td>0</td>\n",
       "      <td>0</td>\n",
       "      <td>0</td>\n",
       "      <td>0</td>\n",
       "      <td>0</td>\n",
       "      <td>0</td>\n",
       "      <td>0</td>\n",
       "      <td>0</td>\n",
       "      <td>0</td>\n",
       "      <td>0</td>\n",
       "      <td>0</td>\n",
       "      <td>0</td>\n",
       "      <td>0</td>\n",
       "      <td>0</td>\n",
       "    </tr>\n",
       "    <tr>\n",
       "      <th>2</th>\n",
       "      <td>0IktbUcnAGrvD03AWnz3Q8</td>\n",
       "      <td>album</td>\n",
       "      <td>2008-05-12</td>\n",
       "      <td>False</td>\n",
       "      <td>80</td>\n",
       "      <td>0.623</td>\n",
       "      <td>0.417</td>\n",
       "      <td>0</td>\n",
       "      <td>-8.699</td>\n",
       "      <td>1</td>\n",
       "      <td>0.0354</td>\n",
       "      <td>0.296</td>\n",
       "      <td>0.0</td>\n",
       "      <td>0.1350</td>\n",
       "      <td>0.721</td>\n",
       "      <td>130.032</td>\n",
       "      <td>191360</td>\n",
       "      <td>4</td>\n",
       "      <td>4174839</td>\n",
       "      <td>3959.0</td>\n",
       "      <td>1</td>\n",
       "      <td>0</td>\n",
       "      <td>0</td>\n",
       "      <td>0</td>\n",
       "      <td>0</td>\n",
       "      <td>0</td>\n",
       "      <td>0</td>\n",
       "      <td>0</td>\n",
       "      <td>0</td>\n",
       "      <td>0</td>\n",
       "      <td>0</td>\n",
       "      <td>0</td>\n",
       "      <td>0</td>\n",
       "      <td>0</td>\n",
       "      <td>0</td>\n",
       "      <td>0</td>\n",
       "      <td>0</td>\n",
       "      <td>0</td>\n",
       "      <td>0</td>\n",
       "      <td>0</td>\n",
       "      <td>0</td>\n",
       "      <td>0</td>\n",
       "      <td>0</td>\n",
       "      <td>0</td>\n",
       "      <td>0</td>\n",
       "      <td>0</td>\n",
       "      <td>0</td>\n",
       "      <td>0</td>\n",
       "      <td>0</td>\n",
       "      <td>0</td>\n",
       "      <td>0</td>\n",
       "      <td>0</td>\n",
       "      <td>0</td>\n",
       "      <td>0</td>\n",
       "      <td>0</td>\n",
       "      <td>0</td>\n",
       "      <td>0</td>\n",
       "      <td>0</td>\n",
       "      <td>0</td>\n",
       "      <td>0</td>\n",
       "      <td>0</td>\n",
       "      <td>0</td>\n",
       "      <td>0</td>\n",
       "      <td>0</td>\n",
       "      <td>0</td>\n",
       "      <td>0</td>\n",
       "      <td>0</td>\n",
       "      <td>0</td>\n",
       "      <td>0</td>\n",
       "      <td>0</td>\n",
       "      <td>0</td>\n",
       "      <td>0</td>\n",
       "      <td>0</td>\n",
       "      <td>0</td>\n",
       "      <td>0</td>\n",
       "      <td>0</td>\n",
       "      <td>0</td>\n",
       "      <td>0</td>\n",
       "      <td>0</td>\n",
       "      <td>0</td>\n",
       "      <td>0</td>\n",
       "      <td>0</td>\n",
       "      <td>0</td>\n",
       "      <td>0</td>\n",
       "      <td>1</td>\n",
       "      <td>0</td>\n",
       "      <td>0</td>\n",
       "      <td>0</td>\n",
       "      <td>0</td>\n",
       "      <td>0</td>\n",
       "      <td>0</td>\n",
       "      <td>0</td>\n",
       "      <td>1</td>\n",
       "      <td>0</td>\n",
       "      <td>0</td>\n",
       "      <td>0</td>\n",
       "      <td>0</td>\n",
       "      <td>0</td>\n",
       "      <td>0</td>\n",
       "      <td>0</td>\n",
       "      <td>0</td>\n",
       "      <td>0</td>\n",
       "      <td>0</td>\n",
       "      <td>0</td>\n",
       "      <td>0</td>\n",
       "      <td>0</td>\n",
       "      <td>0</td>\n",
       "      <td>0</td>\n",
       "      <td>0</td>\n",
       "      <td>0</td>\n",
       "      <td>0</td>\n",
       "    </tr>\n",
       "    <tr>\n",
       "      <th>3</th>\n",
       "      <td>53QF56cjZA9RTuuMZDrSA6</td>\n",
       "      <td>album</td>\n",
       "      <td>2012-04-13</td>\n",
       "      <td>False</td>\n",
       "      <td>72</td>\n",
       "      <td>0.585</td>\n",
       "      <td>0.303</td>\n",
       "      <td>4</td>\n",
       "      <td>-10.058</td>\n",
       "      <td>1</td>\n",
       "      <td>0.0398</td>\n",
       "      <td>0.694</td>\n",
       "      <td>0.0</td>\n",
       "      <td>0.1150</td>\n",
       "      <td>0.142</td>\n",
       "      <td>136.703</td>\n",
       "      <td>240166</td>\n",
       "      <td>3</td>\n",
       "      <td>4174839</td>\n",
       "      <td>2527.0</td>\n",
       "      <td>1</td>\n",
       "      <td>0</td>\n",
       "      <td>0</td>\n",
       "      <td>0</td>\n",
       "      <td>0</td>\n",
       "      <td>0</td>\n",
       "      <td>0</td>\n",
       "      <td>0</td>\n",
       "      <td>0</td>\n",
       "      <td>0</td>\n",
       "      <td>0</td>\n",
       "      <td>0</td>\n",
       "      <td>0</td>\n",
       "      <td>0</td>\n",
       "      <td>0</td>\n",
       "      <td>0</td>\n",
       "      <td>0</td>\n",
       "      <td>0</td>\n",
       "      <td>0</td>\n",
       "      <td>0</td>\n",
       "      <td>0</td>\n",
       "      <td>0</td>\n",
       "      <td>0</td>\n",
       "      <td>0</td>\n",
       "      <td>0</td>\n",
       "      <td>0</td>\n",
       "      <td>0</td>\n",
       "      <td>0</td>\n",
       "      <td>0</td>\n",
       "      <td>0</td>\n",
       "      <td>0</td>\n",
       "      <td>0</td>\n",
       "      <td>0</td>\n",
       "      <td>0</td>\n",
       "      <td>0</td>\n",
       "      <td>0</td>\n",
       "      <td>0</td>\n",
       "      <td>0</td>\n",
       "      <td>0</td>\n",
       "      <td>0</td>\n",
       "      <td>0</td>\n",
       "      <td>0</td>\n",
       "      <td>0</td>\n",
       "      <td>0</td>\n",
       "      <td>0</td>\n",
       "      <td>0</td>\n",
       "      <td>0</td>\n",
       "      <td>0</td>\n",
       "      <td>0</td>\n",
       "      <td>0</td>\n",
       "      <td>0</td>\n",
       "      <td>0</td>\n",
       "      <td>0</td>\n",
       "      <td>0</td>\n",
       "      <td>0</td>\n",
       "      <td>0</td>\n",
       "      <td>0</td>\n",
       "      <td>0</td>\n",
       "      <td>0</td>\n",
       "      <td>0</td>\n",
       "      <td>0</td>\n",
       "      <td>0</td>\n",
       "      <td>0</td>\n",
       "      <td>0</td>\n",
       "      <td>1</td>\n",
       "      <td>0</td>\n",
       "      <td>0</td>\n",
       "      <td>0</td>\n",
       "      <td>0</td>\n",
       "      <td>0</td>\n",
       "      <td>0</td>\n",
       "      <td>0</td>\n",
       "      <td>1</td>\n",
       "      <td>0</td>\n",
       "      <td>0</td>\n",
       "      <td>0</td>\n",
       "      <td>0</td>\n",
       "      <td>0</td>\n",
       "      <td>0</td>\n",
       "      <td>0</td>\n",
       "      <td>0</td>\n",
       "      <td>0</td>\n",
       "      <td>0</td>\n",
       "      <td>0</td>\n",
       "      <td>0</td>\n",
       "      <td>0</td>\n",
       "      <td>0</td>\n",
       "      <td>0</td>\n",
       "      <td>0</td>\n",
       "      <td>0</td>\n",
       "      <td>0</td>\n",
       "    </tr>\n",
       "    <tr>\n",
       "      <th>4</th>\n",
       "      <td>38YgZVHPWOWsKrsCXz6JyP</td>\n",
       "      <td>album</td>\n",
       "      <td>2007-01-01</td>\n",
       "      <td>False</td>\n",
       "      <td>72</td>\n",
       "      <td>0.672</td>\n",
       "      <td>0.623</td>\n",
       "      <td>9</td>\n",
       "      <td>-5.699</td>\n",
       "      <td>1</td>\n",
       "      <td>0.0297</td>\n",
       "      <td>0.241</td>\n",
       "      <td>0.0</td>\n",
       "      <td>0.0848</td>\n",
       "      <td>0.617</td>\n",
       "      <td>92.018</td>\n",
       "      <td>215173</td>\n",
       "      <td>4</td>\n",
       "      <td>235394</td>\n",
       "      <td>4456.0</td>\n",
       "      <td>1</td>\n",
       "      <td>0</td>\n",
       "      <td>0</td>\n",
       "      <td>0</td>\n",
       "      <td>0</td>\n",
       "      <td>0</td>\n",
       "      <td>0</td>\n",
       "      <td>0</td>\n",
       "      <td>0</td>\n",
       "      <td>0</td>\n",
       "      <td>0</td>\n",
       "      <td>0</td>\n",
       "      <td>0</td>\n",
       "      <td>0</td>\n",
       "      <td>0</td>\n",
       "      <td>0</td>\n",
       "      <td>0</td>\n",
       "      <td>0</td>\n",
       "      <td>0</td>\n",
       "      <td>0</td>\n",
       "      <td>0</td>\n",
       "      <td>0</td>\n",
       "      <td>0</td>\n",
       "      <td>0</td>\n",
       "      <td>0</td>\n",
       "      <td>0</td>\n",
       "      <td>0</td>\n",
       "      <td>0</td>\n",
       "      <td>1</td>\n",
       "      <td>0</td>\n",
       "      <td>0</td>\n",
       "      <td>0</td>\n",
       "      <td>0</td>\n",
       "      <td>0</td>\n",
       "      <td>0</td>\n",
       "      <td>0</td>\n",
       "      <td>0</td>\n",
       "      <td>0</td>\n",
       "      <td>0</td>\n",
       "      <td>0</td>\n",
       "      <td>0</td>\n",
       "      <td>0</td>\n",
       "      <td>0</td>\n",
       "      <td>0</td>\n",
       "      <td>0</td>\n",
       "      <td>0</td>\n",
       "      <td>0</td>\n",
       "      <td>0</td>\n",
       "      <td>0</td>\n",
       "      <td>0</td>\n",
       "      <td>0</td>\n",
       "      <td>0</td>\n",
       "      <td>0</td>\n",
       "      <td>0</td>\n",
       "      <td>0</td>\n",
       "      <td>0</td>\n",
       "      <td>0</td>\n",
       "      <td>0</td>\n",
       "      <td>0</td>\n",
       "      <td>0</td>\n",
       "      <td>0</td>\n",
       "      <td>0</td>\n",
       "      <td>0</td>\n",
       "      <td>0</td>\n",
       "      <td>1</td>\n",
       "      <td>0</td>\n",
       "      <td>0</td>\n",
       "      <td>0</td>\n",
       "      <td>0</td>\n",
       "      <td>0</td>\n",
       "      <td>0</td>\n",
       "      <td>0</td>\n",
       "      <td>1</td>\n",
       "      <td>0</td>\n",
       "      <td>0</td>\n",
       "      <td>0</td>\n",
       "      <td>0</td>\n",
       "      <td>0</td>\n",
       "      <td>0</td>\n",
       "      <td>0</td>\n",
       "      <td>0</td>\n",
       "      <td>0</td>\n",
       "      <td>0</td>\n",
       "      <td>0</td>\n",
       "      <td>0</td>\n",
       "      <td>0</td>\n",
       "      <td>0</td>\n",
       "      <td>0</td>\n",
       "      <td>0</td>\n",
       "      <td>0</td>\n",
       "      <td>0</td>\n",
       "    </tr>\n",
       "  </tbody>\n",
       "</table>\n",
       "</div>"
      ],
      "text/plain": [
       "                 track_id album_type release_date  is_explicit  track_popularity  danceability  energy  key  loudness  mode  speechiness  acousticness  instrumentalness  liveness  valence    tempo  duration_ms  time_signature  num_follower  song_age  acoustic  afrobeat  alternative  ambient  anime  black-metal  bluegrass  blues  british  cantopop  chicago-house  chill  classical  comedy  country  dance  dancehall  death-metal  deep-house  detroit-techno  disco  drum-and-bass  dub  dubstep  edm  electro  electronic  emo  folk  forro  french  funk  garage  german  gospel  groove  grunge  guitar  happy  hard-rock  hardcore  hardstyle  hip-hop  house  idm  indian  indie  indie-pop  industrial  j-idol  j-pop  j-rock  jazz  k-pop  latin  mandopop  metal  metalcore  minimal-techno  mpb  new-age  opera  pagode  piano  pop  power-pop  progressive-house  psych-rock  punk  punk-rock  reggae  reggaeton  rock  rockabilly  salsa  samba  sertanejo  show-tunes  singer-songwriter  ska  sleep  \\\n",
       "0  1EzrEOXmMH3G43AXT1y7pA      album   2008-05-12        False                85         0.686   0.457   11    -8.322     1       0.0468         0.595               0.0    0.1050    0.718  150.953       242187               4       4174839    3959.0         1         0            0        0      0            0          0      0        0         0              0      0          0       0        0      0          0            0           0               0      0              0    0        0    0        0           0    0     0      0       0     0       0       0       0       0       0       0      0          0         0          0        0      0    0       0      0          0           0       0      0       0     0      0      0         0      0          0               0    0        0      0       0      0    1          0                  0           0     0          0       0          0     1           0      0      0          0           0                  0    0      0   \n",
       "1  5vjLSffimiIP26QG5WcN2K     single   2017-02-03        False                77         0.608   0.445    2    -9.551     1       0.0550         0.497               0.0    0.0802    0.189  119.886       198853               4          9693     770.0         1         0            0        0      0            0          0      0        0         0              0      0          0       0        1      0          0            0           0               0      0              0    0        0    0        0           0    0     0      0       0     0       0       0       0       0       0       0      0          0         0          0        0      0    0       0      0          0           0       0      0       0     0      0      0         0      0          0               0    0        0      0       0      0    1          0                  0           0     0          0       0          0     0           0      0      0          0           0                  0    0      0   \n",
       "2  0IktbUcnAGrvD03AWnz3Q8      album   2008-05-12        False                80         0.623   0.417    0    -8.699     1       0.0354         0.296               0.0    0.1350    0.721  130.032       191360               4       4174839    3959.0         1         0            0        0      0            0          0      0        0         0              0      0          0       0        0      0          0            0           0               0      0              0    0        0    0        0           0    0     0      0       0     0       0       0       0       0       0       0      0          0         0          0        0      0    0       0      0          0           0       0      0       0     0      0      0         0      0          0               0    0        0      0       0      0    1          0                  0           0     0          0       0          0     1           0      0      0          0           0                  0    0      0   \n",
       "3  53QF56cjZA9RTuuMZDrSA6      album   2012-04-13        False                72         0.585   0.303    4   -10.058     1       0.0398         0.694               0.0    0.1150    0.142  136.703       240166               3       4174839    2527.0         1         0            0        0      0            0          0      0        0         0              0      0          0       0        0      0          0            0           0               0      0              0    0        0    0        0           0    0     0      0       0     0       0       0       0       0       0       0      0          0         0          0        0      0    0       0      0          0           0       0      0       0     0      0      0         0      0          0               0    0        0      0       0      0    1          0                  0           0     0          0       0          0     1           0      0      0          0           0                  0    0      0   \n",
       "4  38YgZVHPWOWsKrsCXz6JyP      album   2007-01-01        False                72         0.672   0.623    9    -5.699     1       0.0297         0.241               0.0    0.0848    0.617   92.018       215173               4        235394    4456.0         1         0            0        0      0            0          0      0        0         0              0      0          0       0        0      0          0            0           0               0      0              0    0        0    0        0           0    0     1      0       0     0       0       0       0       0       0       0      0          0         0          0        0      0    0       0      0          0           0       0      0       0     0      0      0         0      0          0               0    0        0      0       0      0    1          0                  0           0     0          0       0          0     1           0      0      0          0           0                  0    0      0   \n",
       "\n",
       "   songwriter  soul  spanish  swedish  tango  techno  trance  trip-hop  turkish  world-music  \n",
       "0           0     0        0        0      0       0       0         0        0            0  \n",
       "1           0     0        0        0      0       0       0         0        0            0  \n",
       "2           0     0        0        0      0       0       0         0        0            0  \n",
       "3           0     0        0        0      0       0       0         0        0            0  \n",
       "4           0     0        0        0      0       0       0         0        0            0  "
      ]
     },
     "execution_count": 36,
     "metadata": {},
     "output_type": "execute_result"
    }
   ],
   "source": [
    "df.head()"
   ]
  },
  {
   "cell_type": "code",
   "execution_count": 37,
   "metadata": {},
   "outputs": [],
   "source": [
    "df.to_csv('spotify_data.csv', index=False)"
   ]
  },
  {
   "cell_type": "code",
   "execution_count": null,
   "metadata": {},
   "outputs": [],
   "source": []
  }
 ],
 "metadata": {
  "kernelspec": {
   "display_name": "Python 3",
   "language": "python",
   "name": "python3"
  },
  "language_info": {
   "codemirror_mode": {
    "name": "ipython",
    "version": 3
   },
   "file_extension": ".py",
   "mimetype": "text/x-python",
   "name": "python",
   "nbconvert_exporter": "python",
   "pygments_lexer": "ipython3",
   "version": "3.7.1"
  }
 },
 "nbformat": 4,
 "nbformat_minor": 2
}

{
 "cells": [
  {
   "cell_type": "markdown",
   "metadata": {},
   "source": [
    "# Preparation for Data Analysis"
   ]
  },
  {
   "cell_type": "code",
   "execution_count": 1,
   "metadata": {},
   "outputs": [],
   "source": [
    "from pyspark.sql import SparkSession\n",
    "\n",
    "spark = SparkSession \\\n",
    "    .builder \\\n",
    "    .master('local') \\\n",
    "    .appName('Project Spotify') \\\n",
    "    .config(\"spark.executor.memory\", '8g') \\\n",
    "    .config('spark.executor.cores', '4') \\\n",
    "    .config('spark.cores.max', '4') \\\n",
    "    .config(\"spark.driver.memory\",'8g') \\\n",
    "    .getOrCreate()\n",
    "\n",
    "sc = spark.sparkContext"
   ]
  },
  {
   "cell_type": "code",
   "execution_count": 2,
   "metadata": {},
   "outputs": [],
   "source": [
    "import os\n",
    "data_path = '/home/jovyan'\n",
    "filename = 'spotify_data.csv'\n",
    "path_to_data = os.path.join(data_path, filename)"
   ]
  },
  {
   "cell_type": "code",
   "execution_count": 3,
   "metadata": {},
   "outputs": [],
   "source": [
    "df = spark.read.csv(path_to_data, header=True, inferSchema=True)"
   ]
  },
  {
   "cell_type": "code",
   "execution_count": 4,
   "metadata": {},
   "outputs": [],
   "source": [
    "var_to_keep = [\n",
    "    'track_id',\n",
    "    'album_type',\n",
    "    'release_date',\n",
    "    'is_explicit',\n",
    "    'track_popularity',\n",
    "    'danceability',\n",
    "    'energy',\n",
    "    'key',\n",
    "    'loudness',\n",
    "    'mode',\n",
    "    'speechiness',\n",
    "    'acousticness',\n",
    "    'instrumentalness',\n",
    "    'liveness',\n",
    "    'valence',\n",
    "    'tempo',\n",
    "    'duration_ms',\n",
    "    'time_signature',\n",
    "    'num_follower',\n",
    "    'song_age'\n",
    "]\n",
    "\n",
    "genre = [x for x in df.columns if x not in var_to_keep]"
   ]
  },
  {
   "cell_type": "code",
   "execution_count": 5,
   "metadata": {
    "scrolled": false
   },
   "outputs": [
    {
     "data": {
      "text/plain": [
       "20"
      ]
     },
     "execution_count": 5,
     "metadata": {},
     "output_type": "execute_result"
    }
   ],
   "source": [
    "len(var_to_keep)"
   ]
  },
  {
   "cell_type": "code",
   "execution_count": 6,
   "metadata": {},
   "outputs": [
    {
     "data": {
      "text/plain": [
       "91"
      ]
     },
     "execution_count": 6,
     "metadata": {},
     "output_type": "execute_result"
    }
   ],
   "source": [
    "len(genre)"
   ]
  },
  {
   "cell_type": "code",
   "execution_count": 7,
   "metadata": {},
   "outputs": [],
   "source": [
    "var_to_use = [\n",
    "    'album_type',\n",
    "    'is_explicit',\n",
    "    'track_popularity',\n",
    "    'danceability',\n",
    "    'energy',\n",
    "    'key',\n",
    "    'loudness',\n",
    "    'mode',\n",
    "    'speechiness',\n",
    "    'acousticness',\n",
    "    'instrumentalness',\n",
    "    'liveness',\n",
    "    'valence',\n",
    "    'tempo',\n",
    "    'duration_ms',\n",
    "    'time_signature',\n",
    "    'num_follower',\n",
    "    'song_age'\n",
    "]"
   ]
  },
  {
   "cell_type": "code",
   "execution_count": 8,
   "metadata": {},
   "outputs": [],
   "source": [
    "final_df = df[var_to_use + genre]"
   ]
  },
  {
   "cell_type": "code",
   "execution_count": 9,
   "metadata": {},
   "outputs": [],
   "source": [
    "label = 'track_popularity'\n",
    "features = [x for x in final_df.columns if x != label]"
   ]
  },
  {
   "cell_type": "code",
   "execution_count": 10,
   "metadata": {},
   "outputs": [],
   "source": [
    "# Convert time signature and album type from string to index\n",
    "from pyspark.ml.feature import StringIndexer\n",
    "tsIndexer = StringIndexer(inputCol='time_signature',outputCol='tsIndex')\n",
    "albumTypeIndexer = StringIndexer(inputCol='album_type',outputCol='albumTypeIndex')\n",
    "\n",
    "final_df = tsIndexer.fit(final_df).transform(final_df)\n",
    "final_df = albumTypeIndexer.fit(final_df).transform(final_df)"
   ]
  },
  {
   "cell_type": "code",
   "execution_count": 11,
   "metadata": {},
   "outputs": [],
   "source": [
    "# Ont-hot encoding for key, time signature and album type\n",
    "from pyspark.ml.feature import OneHotEncoder\n",
    "keyEncoder=OneHotEncoder(inputCol='key', outputCol='keyVec', dropLast=False)\n",
    "tsEncoder = OneHotEncoder(inputCol='tsIndex', outputCol='tsVec', dropLast=False)\n",
    "albumTypeEncoder = OneHotEncoder(inputCol=\"albumTypeIndex\",outputCol=\"albumTypeVec\", dropLast=False)\n",
    "\n",
    "final_df = keyEncoder.transform(final_df)\n",
    "final_df = tsEncoder.transform(final_df)\n",
    "final_df = albumTypeEncoder.transform(final_df)"
   ]
  },
  {
   "cell_type": "code",
   "execution_count": 12,
   "metadata": {},
   "outputs": [],
   "source": [
    "# Assign pitch class to each key index\n",
    "pitch_class = {\n",
    "    0:'C Key',\n",
    "    1:'C#/Db Key',\n",
    "    2:'D Key',\n",
    "    3:'D#/Eb Key',\n",
    "    4:'E Key',\n",
    "    5:'F Key',\n",
    "    6:'F#/Gb Key',\n",
    "    7:'G Key',\n",
    "    8:'G#/Ab Key',\n",
    "    9:'A Key',\n",
    "    10:'A#/Bb Key',\n",
    "    11:'B Key'\n",
    "}"
   ]
  },
  {
   "cell_type": "code",
   "execution_count": 13,
   "metadata": {},
   "outputs": [],
   "source": [
    "# Map string index back to their own categories\n",
    "tsDict = final_df.select('time_signature','tsIndex').distinct().sort('tsIndex').toPandas().to_dict('list')\n",
    "albumTypeDict = final_df.select('album_type','albumTypeIndex').distinct().sort('albumTypeIndex').toPandas().to_dict('list')"
   ]
  },
  {
   "cell_type": "code",
   "execution_count": 14,
   "metadata": {},
   "outputs": [],
   "source": [
    "# Create variables for each dummy variables\n",
    "keyDummy = list(pitch_class.values())\n",
    "tsDummy = ['time_signature_' + str(x) for x in tsDict['time_signature']]\n",
    "albumTypeDummy = albumTypeDict['album_type']"
   ]
  },
  {
   "cell_type": "code",
   "execution_count": 15,
   "metadata": {},
   "outputs": [],
   "source": [
    "# Detect the location of each item in the column name list\n",
    "key_index = features.index('key')\n",
    "time_signature_index = features.index('time_signature')\n",
    "album_type_index = features.index('album_type')"
   ]
  },
  {
   "cell_type": "code",
   "execution_count": 16,
   "metadata": {},
   "outputs": [],
   "source": [
    "# Update the columns list by replacing the categorical variable in reverse order\n",
    "featureCol = features\n",
    "featureCol = featureCol[:key_index] + keyDummy + featureCol[key_index+1:]\n",
    "featureCol = featureCol[:time_signature_index] + tsDummy + featureCol[time_signature_index+1:]\n",
    "featureCol = featureCol[:album_type_index] + albumTypeDummy + featureCol[album_type_index+1:]"
   ]
  },
  {
   "cell_type": "code",
   "execution_count": 17,
   "metadata": {},
   "outputs": [
    {
     "data": {
      "text/plain": [
       "125"
      ]
     },
     "execution_count": 17,
     "metadata": {},
     "output_type": "execute_result"
    }
   ],
   "source": [
    "len(featureCol)"
   ]
  },
  {
   "cell_type": "code",
   "execution_count": 18,
   "metadata": {},
   "outputs": [],
   "source": [
    "# Remove all the unnecessary columns\n",
    "from pyspark.sql.functions import *\n",
    "final_df = final_df.withColumn('key', col('keyVec')) \\\n",
    "                    .withColumn('time_signature', col('tsVec')) \\\n",
    "                    .withColumn('album_type', col('albumTypeVec')) \\\n",
    "                    .drop('keyVec','tsVec','tsIndex','albumTypeVec','albumTypeIndex')"
   ]
  },
  {
   "cell_type": "code",
   "execution_count": 19,
   "metadata": {},
   "outputs": [],
   "source": [
    "# Assemble all columns into one feature column\n",
    "from pyspark.ml.feature import VectorAssembler\n",
    "va = VectorAssembler(inputCols = features, outputCol = \"features\")\n",
    "final_df = va.transform(final_df).select('features', col(label).alias('label'))\n",
    "\n",
    "# Scale all variables in the feature vector\n",
    "from pyspark.ml.feature import StandardScaler\n",
    "ss = StandardScaler(inputCol=\"features\", outputCol=\"scaledFeatures\", withStd=True, withMean=False)\n",
    "ssModel = ss.fit(final_df)\n",
    "final_df = ssModel.transform(final_df).select(col('scaledFeatures').alias('features'), 'label')"
   ]
  },
  {
   "cell_type": "code",
   "execution_count": 21,
   "metadata": {},
   "outputs": [],
   "source": [
    "# Sample 0.01 of the entire data for faster computation\n",
    "theSeed = 314\n",
    "sampled_df = final_df.sample(withReplacement=False, fraction=0.01, seed=theSeed)"
   ]
  },
  {
   "cell_type": "code",
   "execution_count": 22,
   "metadata": {},
   "outputs": [],
   "source": [
    "# Split the sample data into train and test set\n",
    "train_df, test_df = sampled_df.randomSplit([0.8,0.2], seed=theSeed)"
   ]
  },
  {
   "cell_type": "code",
   "execution_count": 23,
   "metadata": {},
   "outputs": [
    {
     "data": {
      "text/plain": [
       "DataFrame[features: vector, label: int]"
      ]
     },
     "execution_count": 23,
     "metadata": {},
     "output_type": "execute_result"
    }
   ],
   "source": [
    "# Cache training set\n",
    "train_df.cache()"
   ]
  },
  {
   "cell_type": "code",
   "execution_count": 24,
   "metadata": {},
   "outputs": [
    {
     "data": {
      "text/plain": [
       "DataFrame[features: vector, label: int]"
      ]
     },
     "execution_count": 24,
     "metadata": {},
     "output_type": "execute_result"
    }
   ],
   "source": [
    "# Cache test set\n",
    "test_df.cache()"
   ]
  },
  {
   "cell_type": "code",
   "execution_count": 25,
   "metadata": {},
   "outputs": [
    {
     "data": {
      "text/plain": [
       "4686"
      ]
     },
     "execution_count": 25,
     "metadata": {},
     "output_type": "execute_result"
    }
   ],
   "source": [
    "# Check the count of training set\n",
    "train_df.count()"
   ]
  },
  {
   "cell_type": "code",
   "execution_count": 26,
   "metadata": {},
   "outputs": [
    {
     "data": {
      "text/plain": [
       "1174"
      ]
     },
     "execution_count": 26,
     "metadata": {},
     "output_type": "execute_result"
    }
   ],
   "source": [
    "# Check the count of test set\n",
    "test_df.count()"
   ]
  },
  {
   "cell_type": "markdown",
   "metadata": {},
   "source": [
    "# Modeling"
   ]
  },
  {
   "cell_type": "code",
   "execution_count": 27,
   "metadata": {},
   "outputs": [],
   "source": [
    "# Define evaluators for regression metrics\n",
    "from pyspark.ml.evaluation import RegressionEvaluator\n",
    "rmse = RegressionEvaluator(predictionCol=\"prediction\", metricName=\"rmse\")\n",
    "r2 = RegressionEvaluator(predictionCol=\"prediction\", metricName=\"r2\")\n",
    "mae = RegressionEvaluator(predictionCol=\"prediction\", metricName=\"mae\")"
   ]
  },
  {
   "cell_type": "code",
   "execution_count": 28,
   "metadata": {},
   "outputs": [],
   "source": [
    "# Define a function that compute relevant metrics\n",
    "def model_performance(predictions):\n",
    "    rmse_result = rmse.evaluate(predictions)\n",
    "    r2_result = r2.evaluate(predictions)\n",
    "    mae_result = mae.evaluate(predictions)\n",
    "    return [rmse_result, r2_result, mae_result]"
   ]
  },
  {
   "cell_type": "markdown",
   "metadata": {},
   "source": [
    "# Cross Validation"
   ]
  },
  {
   "cell_type": "code",
   "execution_count": 29,
   "metadata": {},
   "outputs": [],
   "source": [
    "# Import models and cross validation packages\n",
    "from pyspark.ml.tuning import ParamGridBuilder, CrossValidator\n",
    "from pyspark.ml.regression import LinearRegression, GeneralizedLinearRegression\n",
    "from pyspark.ml.regression import DecisionTreeRegressor, RandomForestRegressor, GBTRegressor"
   ]
  },
  {
   "cell_type": "markdown",
   "metadata": {},
   "source": [
    "## Linear Regression"
   ]
  },
  {
   "cell_type": "code",
   "execution_count": 30,
   "metadata": {},
   "outputs": [
    {
     "data": {
      "text/plain": [
       "1"
      ]
     },
     "execution_count": 30,
     "metadata": {},
     "output_type": "execute_result"
    }
   ],
   "source": [
    "lr = LinearRegression()\n",
    "lrGrid = ParamGridBuilder() \\\n",
    "            .addGrid(lr.maxIter, [10]) \\\n",
    "            .addGrid(lr.regParam, [0]) \\\n",
    "            .build()\n",
    "lrCv = CrossValidator(estimator=lr, estimatorParamMaps=lrGrid, evaluator=rmse, numFolds=5, seed=theSeed)\n",
    "\n",
    "len(lrGrid)"
   ]
  },
  {
   "cell_type": "code",
   "execution_count": 31,
   "metadata": {},
   "outputs": [
    {
     "name": "stdout",
     "output_type": "stream",
     "text": [
      "CPU times: user 279 ms, sys: 96.7 ms, total: 376 ms\n",
      "Wall time: 5.82 s\n"
     ]
    }
   ],
   "source": [
    "%%time\n",
    "lrModel = lrCv.fit(train_df)"
   ]
  },
  {
   "cell_type": "code",
   "execution_count": 32,
   "metadata": {},
   "outputs": [],
   "source": [
    "lrPredictions = lrModel.transform(test_df)"
   ]
  },
  {
   "cell_type": "code",
   "execution_count": 33,
   "metadata": {},
   "outputs": [
    {
     "data": {
      "text/plain": [
       "[10.000337119577143, 0.5650491842100047, 7.67928592051438]"
      ]
     },
     "execution_count": 33,
     "metadata": {},
     "output_type": "execute_result"
    }
   ],
   "source": [
    "model_performance(lrPredictions)"
   ]
  },
  {
   "cell_type": "code",
   "execution_count": 34,
   "metadata": {},
   "outputs": [
    {
     "data": {
      "text/plain": [
       "{Param(parent='LinearRegression_8f2f91ec7935', name='aggregationDepth', doc='suggested depth for treeAggregate (>= 2)'): 2,\n",
       " Param(parent='LinearRegression_8f2f91ec7935', name='elasticNetParam', doc='the ElasticNet mixing parameter, in range [0, 1]. For alpha = 0, the penalty is an L2 penalty. For alpha = 1, it is an L1 penalty'): 0.0,\n",
       " Param(parent='LinearRegression_8f2f91ec7935', name='epsilon', doc='The shape parameter to control the amount of robustness. Must be > 1.0.'): 1.35,\n",
       " Param(parent='LinearRegression_8f2f91ec7935', name='featuresCol', doc='features column name'): 'features',\n",
       " Param(parent='LinearRegression_8f2f91ec7935', name='fitIntercept', doc='whether to fit an intercept term'): True,\n",
       " Param(parent='LinearRegression_8f2f91ec7935', name='labelCol', doc='label column name'): 'label',\n",
       " Param(parent='LinearRegression_8f2f91ec7935', name='loss', doc='The loss function to be optimized. Supported options: squaredError, huber. (Default squaredError)'): 'squaredError',\n",
       " Param(parent='LinearRegression_8f2f91ec7935', name='maxIter', doc='maximum number of iterations (>= 0)'): 10,\n",
       " Param(parent='LinearRegression_8f2f91ec7935', name='predictionCol', doc='prediction column name'): 'prediction',\n",
       " Param(parent='LinearRegression_8f2f91ec7935', name='regParam', doc='regularization parameter (>= 0)'): 0.0,\n",
       " Param(parent='LinearRegression_8f2f91ec7935', name='solver', doc='The solver algorithm for optimization. Supported options: auto, normal, l-bfgs. (Default auto)'): 'auto',\n",
       " Param(parent='LinearRegression_8f2f91ec7935', name='standardization', doc='whether to standardize the training features before fitting the model'): True,\n",
       " Param(parent='LinearRegression_8f2f91ec7935', name='tol', doc='the convergence tolerance for iterative algorithms (>= 0)'): 1e-06}"
      ]
     },
     "execution_count": 34,
     "metadata": {},
     "output_type": "execute_result"
    }
   ],
   "source": [
    "lrBest = lrModel.bestModel\n",
    "lrBest.extractParamMap()"
   ]
  },
  {
   "cell_type": "markdown",
   "metadata": {},
   "source": [
    "## Ridge Regression"
   ]
  },
  {
   "cell_type": "code",
   "execution_count": 35,
   "metadata": {},
   "outputs": [
    {
     "data": {
      "text/plain": [
       "4"
      ]
     },
     "execution_count": 35,
     "metadata": {},
     "output_type": "execute_result"
    }
   ],
   "source": [
    "ridge = LinearRegression()\n",
    "ridgeGrid = ParamGridBuilder() \\\n",
    "            .addGrid(ridge.maxIter, [10]) \\\n",
    "            .addGrid(ridge.regParam, [0.001, 0.01, 0.1, 1]) \\\n",
    "            .addGrid(ridge.elasticNetParam, [0]) \\\n",
    "            .build()\n",
    "ridgeCv = CrossValidator(estimator=ridge, estimatorParamMaps=ridgeGrid, evaluator=rmse, numFolds=5, seed=theSeed)\n",
    "\n",
    "len(ridgeGrid)"
   ]
  },
  {
   "cell_type": "code",
   "execution_count": 36,
   "metadata": {},
   "outputs": [
    {
     "name": "stdout",
     "output_type": "stream",
     "text": [
      "CPU times: user 838 ms, sys: 318 ms, total: 1.16 s\n",
      "Wall time: 12.3 s\n"
     ]
    }
   ],
   "source": [
    "%%time\n",
    "ridgeModel = ridgeCv.fit(train_df)"
   ]
  },
  {
   "cell_type": "code",
   "execution_count": 37,
   "metadata": {},
   "outputs": [],
   "source": [
    "ridgePredictions = ridgeModel.transform(test_df)"
   ]
  },
  {
   "cell_type": "code",
   "execution_count": 38,
   "metadata": {},
   "outputs": [
    {
     "data": {
      "text/plain": [
       "[9.958589175034822, 0.5686731420840172, 7.664280747498952]"
      ]
     },
     "execution_count": 38,
     "metadata": {},
     "output_type": "execute_result"
    }
   ],
   "source": [
    "model_performance(ridgePredictions)"
   ]
  },
  {
   "cell_type": "code",
   "execution_count": 39,
   "metadata": {},
   "outputs": [
    {
     "data": {
      "text/plain": [
       "{Param(parent='LinearRegression_19d5b25a37b4', name='aggregationDepth', doc='suggested depth for treeAggregate (>= 2)'): 2,\n",
       " Param(parent='LinearRegression_19d5b25a37b4', name='elasticNetParam', doc='the ElasticNet mixing parameter, in range [0, 1]. For alpha = 0, the penalty is an L2 penalty. For alpha = 1, it is an L1 penalty'): 0.0,\n",
       " Param(parent='LinearRegression_19d5b25a37b4', name='epsilon', doc='The shape parameter to control the amount of robustness. Must be > 1.0.'): 1.35,\n",
       " Param(parent='LinearRegression_19d5b25a37b4', name='featuresCol', doc='features column name'): 'features',\n",
       " Param(parent='LinearRegression_19d5b25a37b4', name='fitIntercept', doc='whether to fit an intercept term'): True,\n",
       " Param(parent='LinearRegression_19d5b25a37b4', name='labelCol', doc='label column name'): 'label',\n",
       " Param(parent='LinearRegression_19d5b25a37b4', name='loss', doc='The loss function to be optimized. Supported options: squaredError, huber. (Default squaredError)'): 'squaredError',\n",
       " Param(parent='LinearRegression_19d5b25a37b4', name='maxIter', doc='maximum number of iterations (>= 0)'): 10,\n",
       " Param(parent='LinearRegression_19d5b25a37b4', name='predictionCol', doc='prediction column name'): 'prediction',\n",
       " Param(parent='LinearRegression_19d5b25a37b4', name='regParam', doc='regularization parameter (>= 0)'): 1.0,\n",
       " Param(parent='LinearRegression_19d5b25a37b4', name='solver', doc='The solver algorithm for optimization. Supported options: auto, normal, l-bfgs. (Default auto)'): 'auto',\n",
       " Param(parent='LinearRegression_19d5b25a37b4', name='standardization', doc='whether to standardize the training features before fitting the model'): True,\n",
       " Param(parent='LinearRegression_19d5b25a37b4', name='tol', doc='the convergence tolerance for iterative algorithms (>= 0)'): 1e-06}"
      ]
     },
     "execution_count": 39,
     "metadata": {},
     "output_type": "execute_result"
    }
   ],
   "source": [
    "ridgeBest = ridgeModel.bestModel\n",
    "ridgeBest.extractParamMap()"
   ]
  },
  {
   "cell_type": "markdown",
   "metadata": {},
   "source": [
    "## Lasso Regression"
   ]
  },
  {
   "cell_type": "code",
   "execution_count": 40,
   "metadata": {},
   "outputs": [
    {
     "data": {
      "text/plain": [
       "4"
      ]
     },
     "execution_count": 40,
     "metadata": {},
     "output_type": "execute_result"
    }
   ],
   "source": [
    "lasso = LinearRegression()\n",
    "lassoGrid = ParamGridBuilder() \\\n",
    "            .addGrid(lasso.maxIter, [10]) \\\n",
    "            .addGrid(lasso.regParam, [0.001, 0.01, 0.1, 1]) \\\n",
    "            .addGrid(lasso.elasticNetParam, [1]) \\\n",
    "            .build()\n",
    "lassoCv = CrossValidator(estimator=lasso, estimatorParamMaps=lassoGrid, evaluator=rmse, numFolds=5, seed=theSeed)\n",
    "\n",
    "len(lassoGrid)"
   ]
  },
  {
   "cell_type": "code",
   "execution_count": 41,
   "metadata": {},
   "outputs": [
    {
     "name": "stdout",
     "output_type": "stream",
     "text": [
      "CPU times: user 1.05 s, sys: 407 ms, total: 1.46 s\n",
      "Wall time: 12.1 s\n"
     ]
    }
   ],
   "source": [
    "%%time\n",
    "lassoModel = lassoCv.fit(train_df)"
   ]
  },
  {
   "cell_type": "code",
   "execution_count": 42,
   "metadata": {},
   "outputs": [],
   "source": [
    "lassoPredictions = lassoModel.transform(test_df)"
   ]
  },
  {
   "cell_type": "code",
   "execution_count": 44,
   "metadata": {},
   "outputs": [
    {
     "data": {
      "text/plain": [
       "[9.995335945842342, 0.5654841136817583, 7.676075289547258]"
      ]
     },
     "execution_count": 44,
     "metadata": {},
     "output_type": "execute_result"
    }
   ],
   "source": [
    "model_performance(lassoPredictions)"
   ]
  },
  {
   "cell_type": "code",
   "execution_count": 45,
   "metadata": {},
   "outputs": [
    {
     "data": {
      "text/plain": [
       "{Param(parent='LinearRegression_fb4841ed92e7', name='aggregationDepth', doc='suggested depth for treeAggregate (>= 2)'): 2,\n",
       " Param(parent='LinearRegression_fb4841ed92e7', name='elasticNetParam', doc='the ElasticNet mixing parameter, in range [0, 1]. For alpha = 0, the penalty is an L2 penalty. For alpha = 1, it is an L1 penalty'): 1.0,\n",
       " Param(parent='LinearRegression_fb4841ed92e7', name='epsilon', doc='The shape parameter to control the amount of robustness. Must be > 1.0.'): 1.35,\n",
       " Param(parent='LinearRegression_fb4841ed92e7', name='featuresCol', doc='features column name'): 'features',\n",
       " Param(parent='LinearRegression_fb4841ed92e7', name='fitIntercept', doc='whether to fit an intercept term'): True,\n",
       " Param(parent='LinearRegression_fb4841ed92e7', name='labelCol', doc='label column name'): 'label',\n",
       " Param(parent='LinearRegression_fb4841ed92e7', name='loss', doc='The loss function to be optimized. Supported options: squaredError, huber. (Default squaredError)'): 'squaredError',\n",
       " Param(parent='LinearRegression_fb4841ed92e7', name='maxIter', doc='maximum number of iterations (>= 0)'): 10,\n",
       " Param(parent='LinearRegression_fb4841ed92e7', name='predictionCol', doc='prediction column name'): 'prediction',\n",
       " Param(parent='LinearRegression_fb4841ed92e7', name='regParam', doc='regularization parameter (>= 0)'): 0.01,\n",
       " Param(parent='LinearRegression_fb4841ed92e7', name='solver', doc='The solver algorithm for optimization. Supported options: auto, normal, l-bfgs. (Default auto)'): 'auto',\n",
       " Param(parent='LinearRegression_fb4841ed92e7', name='standardization', doc='whether to standardize the training features before fitting the model'): True,\n",
       " Param(parent='LinearRegression_fb4841ed92e7', name='tol', doc='the convergence tolerance for iterative algorithms (>= 0)'): 1e-06}"
      ]
     },
     "execution_count": 45,
     "metadata": {},
     "output_type": "execute_result"
    }
   ],
   "source": [
    "lassoBest = lassoModel.bestModel\n",
    "lassoBest.extractParamMap()"
   ]
  },
  {
   "cell_type": "markdown",
   "metadata": {},
   "source": [
    "## Elastic Net Regression"
   ]
  },
  {
   "cell_type": "code",
   "execution_count": 46,
   "metadata": {},
   "outputs": [
    {
     "data": {
      "text/plain": [
       "16"
      ]
     },
     "execution_count": 46,
     "metadata": {},
     "output_type": "execute_result"
    }
   ],
   "source": [
    "elasticNet = LinearRegression()\n",
    "elasticNetGrid = ParamGridBuilder() \\\n",
    "            .addGrid(elasticNet.maxIter, [10]) \\\n",
    "            .addGrid(elasticNet.regParam, [0.001, 0.01, 0.1, 1]) \\\n",
    "            .addGrid(elasticNet.elasticNetParam, [0.2, 0.4, 0.6, 0.8]) \\\n",
    "            .build()\n",
    "elasticNetCv = CrossValidator(estimator=elasticNet, estimatorParamMaps=elasticNetGrid, evaluator=rmse, numFolds=5, seed=theSeed)\n",
    "\n",
    "len(elasticNetGrid)"
   ]
  },
  {
   "cell_type": "code",
   "execution_count": 47,
   "metadata": {},
   "outputs": [
    {
     "name": "stdout",
     "output_type": "stream",
     "text": [
      "CPU times: user 2.9 s, sys: 1.22 s, total: 4.12 s\n",
      "Wall time: 39.3 s\n"
     ]
    }
   ],
   "source": [
    "%%time\n",
    "elasticNetModel = elasticNetCv.fit(train_df)"
   ]
  },
  {
   "cell_type": "code",
   "execution_count": 48,
   "metadata": {},
   "outputs": [],
   "source": [
    "elasticNetPredictions = elasticNetModel.transform(test_df)"
   ]
  },
  {
   "cell_type": "code",
   "execution_count": 49,
   "metadata": {},
   "outputs": [
    {
     "data": {
      "text/plain": [
       "[9.974501037162078, 0.5672936903554152, 7.674832330871128]"
      ]
     },
     "execution_count": 49,
     "metadata": {},
     "output_type": "execute_result"
    }
   ],
   "source": [
    "model_performance(elasticNetPredictions)"
   ]
  },
  {
   "cell_type": "code",
   "execution_count": 50,
   "metadata": {},
   "outputs": [
    {
     "data": {
      "text/plain": [
       "{Param(parent='LinearRegression_850e205d0c82', name='aggregationDepth', doc='suggested depth for treeAggregate (>= 2)'): 2,\n",
       " Param(parent='LinearRegression_850e205d0c82', name='elasticNetParam', doc='the ElasticNet mixing parameter, in range [0, 1]. For alpha = 0, the penalty is an L2 penalty. For alpha = 1, it is an L1 penalty'): 0.4,\n",
       " Param(parent='LinearRegression_850e205d0c82', name='epsilon', doc='The shape parameter to control the amount of robustness. Must be > 1.0.'): 1.35,\n",
       " Param(parent='LinearRegression_850e205d0c82', name='featuresCol', doc='features column name'): 'features',\n",
       " Param(parent='LinearRegression_850e205d0c82', name='fitIntercept', doc='whether to fit an intercept term'): True,\n",
       " Param(parent='LinearRegression_850e205d0c82', name='labelCol', doc='label column name'): 'label',\n",
       " Param(parent='LinearRegression_850e205d0c82', name='loss', doc='The loss function to be optimized. Supported options: squaredError, huber. (Default squaredError)'): 'squaredError',\n",
       " Param(parent='LinearRegression_850e205d0c82', name='maxIter', doc='maximum number of iterations (>= 0)'): 10,\n",
       " Param(parent='LinearRegression_850e205d0c82', name='predictionCol', doc='prediction column name'): 'prediction',\n",
       " Param(parent='LinearRegression_850e205d0c82', name='regParam', doc='regularization parameter (>= 0)'): 0.1,\n",
       " Param(parent='LinearRegression_850e205d0c82', name='solver', doc='The solver algorithm for optimization. Supported options: auto, normal, l-bfgs. (Default auto)'): 'auto',\n",
       " Param(parent='LinearRegression_850e205d0c82', name='standardization', doc='whether to standardize the training features before fitting the model'): True,\n",
       " Param(parent='LinearRegression_850e205d0c82', name='tol', doc='the convergence tolerance for iterative algorithms (>= 0)'): 1e-06}"
      ]
     },
     "execution_count": 50,
     "metadata": {},
     "output_type": "execute_result"
    }
   ],
   "source": [
    "elasticNetBest = elasticNetModel.bestModel\n",
    "elasticNetBest.extractParamMap()"
   ]
  },
  {
   "cell_type": "markdown",
   "metadata": {},
   "source": [
    "## Generalized Linear Model"
   ]
  },
  {
   "cell_type": "code",
   "execution_count": 104,
   "metadata": {},
   "outputs": [
    {
     "data": {
      "text/plain": [
       "12"
      ]
     },
     "execution_count": 104,
     "metadata": {},
     "output_type": "execute_result"
    }
   ],
   "source": [
    "glm = GeneralizedLinearRegression()\n",
    "glmGrid = ParamGridBuilder() \\\n",
    "            .addGrid(glm.maxIter, [10]) \\\n",
    "            .addGrid(glm.regParam, [0.001, 0.01, 0.1, 1]) \\\n",
    "            .addGrid(glm.family, ['gaussian','poisson', 'gamma']) \\\n",
    "            .build()\n",
    "\n",
    "glmCv = CrossValidator(estimator=glm, estimatorParamMaps=glmGrid, evaluator=rmse, numFolds=5, seed=theSeed)\n",
    "len(glmGrid)"
   ]
  },
  {
   "cell_type": "code",
   "execution_count": 105,
   "metadata": {},
   "outputs": [
    {
     "name": "stdout",
     "output_type": "stream",
     "text": [
      "CPU times: user 2.12 s, sys: 942 ms, total: 3.07 s\n",
      "Wall time: 31.4 s\n"
     ]
    }
   ],
   "source": [
    "%%time\n",
    "glmModel = glmCv.fit(train_df)"
   ]
  },
  {
   "cell_type": "code",
   "execution_count": 106,
   "metadata": {},
   "outputs": [],
   "source": [
    "glmPredictions = glmModel.transform(test_df)"
   ]
  },
  {
   "cell_type": "code",
   "execution_count": 107,
   "metadata": {},
   "outputs": [
    {
     "data": {
      "text/plain": [
       "[9.958589175034822, 0.5686731420840172, 7.664280747498952]"
      ]
     },
     "execution_count": 107,
     "metadata": {},
     "output_type": "execute_result"
    }
   ],
   "source": [
    "model_performance(glmPredictions)"
   ]
  },
  {
   "cell_type": "code",
   "execution_count": 108,
   "metadata": {},
   "outputs": [
    {
     "data": {
      "text/plain": [
       "{Param(parent='GeneralizedLinearRegression_c6274252a340', name='family', doc='The name of family which is a description of the error distribution to be used in the model. Supported options: binomial, poisson, gaussian, gamma, tweedie.'): 'gaussian',\n",
       " Param(parent='GeneralizedLinearRegression_c6274252a340', name='featuresCol', doc='features column name'): 'features',\n",
       " Param(parent='GeneralizedLinearRegression_c6274252a340', name='fitIntercept', doc='whether to fit an intercept term'): True,\n",
       " Param(parent='GeneralizedLinearRegression_c6274252a340', name='labelCol', doc='label column name'): 'label',\n",
       " Param(parent='GeneralizedLinearRegression_c6274252a340', name='maxIter', doc='maximum number of iterations (>= 0)'): 10,\n",
       " Param(parent='GeneralizedLinearRegression_c6274252a340', name='predictionCol', doc='prediction column name'): 'prediction',\n",
       " Param(parent='GeneralizedLinearRegression_c6274252a340', name='regParam', doc='regularization parameter (>= 0)'): 1.0,\n",
       " Param(parent='GeneralizedLinearRegression_c6274252a340', name='solver', doc='The solver algorithm for optimization. Supported options: irls. (Default irls)'): 'irls',\n",
       " Param(parent='GeneralizedLinearRegression_c6274252a340', name='tol', doc='the convergence tolerance for iterative algorithms (>= 0)'): 1e-06,\n",
       " Param(parent='GeneralizedLinearRegression_c6274252a340', name='variancePower', doc='The power in the variance function of the Tweedie distribution which characterizes the relationship between the variance and mean of the distribution. Only applicable to the Tweedie family. Supported values: 0 and [1, Inf).'): 0.0}"
      ]
     },
     "execution_count": 108,
     "metadata": {},
     "output_type": "execute_result"
    }
   ],
   "source": [
    "glmBest = glmModel.bestModel\n",
    "glmBest.extractParamMap()"
   ]
  },
  {
   "cell_type": "markdown",
   "metadata": {},
   "source": [
    "## Decision Tree"
   ]
  },
  {
   "cell_type": "code",
   "execution_count": 56,
   "metadata": {},
   "outputs": [
    {
     "data": {
      "text/plain": [
       "40"
      ]
     },
     "execution_count": 56,
     "metadata": {},
     "output_type": "execute_result"
    }
   ],
   "source": [
    "dt = DecisionTreeRegressor(cacheNodeIds=True, seed=theSeed)\n",
    "dtGrid = ParamGridBuilder() \\\n",
    "            .addGrid(dt.maxDepth, [5,10,13,15,17]) \\\n",
    "            .addGrid(dt.minInstancesPerNode, [3,10,30,50]) \\\n",
    "            .addGrid(dt.maxBins, [32, 64]) \\\n",
    "            .build()\n",
    "dtCv = CrossValidator(estimator=dt, estimatorParamMaps=dtGrid, evaluator=rmse, numFolds=5, seed=theSeed)\n",
    "len(dtGrid)"
   ]
  },
  {
   "cell_type": "code",
   "execution_count": 57,
   "metadata": {},
   "outputs": [
    {
     "name": "stdout",
     "output_type": "stream",
     "text": [
      "CPU times: user 8.99 s, sys: 3.6 s, total: 12.6 s\n",
      "Wall time: 4min 59s\n"
     ]
    }
   ],
   "source": [
    "%%time\n",
    "dtModel = dtCv.fit(train_df)"
   ]
  },
  {
   "cell_type": "code",
   "execution_count": 58,
   "metadata": {},
   "outputs": [],
   "source": [
    "dtPredictions = dtModel.transform(test_df)"
   ]
  },
  {
   "cell_type": "code",
   "execution_count": 59,
   "metadata": {},
   "outputs": [
    {
     "data": {
      "text/plain": [
       "[11.470266510820682, 0.4277867815450881, 8.925662284830516]"
      ]
     },
     "execution_count": 59,
     "metadata": {},
     "output_type": "execute_result"
    }
   ],
   "source": [
    "model_performance(dtPredictions)"
   ]
  },
  {
   "cell_type": "code",
   "execution_count": 60,
   "metadata": {},
   "outputs": [
    {
     "data": {
      "text/plain": [
       "{Param(parent='DecisionTreeRegressor_0034f5c7446a', name='cacheNodeIds', doc='If false, the algorithm will pass trees to executors to match instances with nodes. If true, the algorithm will cache node IDs for each instance. Caching can speed up training of deeper trees.'): True,\n",
       " Param(parent='DecisionTreeRegressor_0034f5c7446a', name='checkpointInterval', doc='set checkpoint interval (>= 1) or disable checkpoint (-1). E.g. 10 means that the cache will get checkpointed every 10 iterations. Note: this setting will be ignored if the checkpoint directory is not set in the SparkContext'): 10,\n",
       " Param(parent='DecisionTreeRegressor_0034f5c7446a', name='featuresCol', doc='features column name'): 'features',\n",
       " Param(parent='DecisionTreeRegressor_0034f5c7446a', name='impurity', doc='Criterion used for information gain calculation (case-insensitive). Supported options: variance'): 'variance',\n",
       " Param(parent='DecisionTreeRegressor_0034f5c7446a', name='labelCol', doc='label column name'): 'label',\n",
       " Param(parent='DecisionTreeRegressor_0034f5c7446a', name='maxBins', doc='Max number of bins for discretizing continuous features.  Must be >=2 and >= number of categories for any categorical feature.'): 32,\n",
       " Param(parent='DecisionTreeRegressor_0034f5c7446a', name='maxDepth', doc='Maximum depth of the tree. (>= 0) E.g., depth 0 means 1 leaf node; depth 1 means 1 internal node + 2 leaf nodes.'): 10,\n",
       " Param(parent='DecisionTreeRegressor_0034f5c7446a', name='maxMemoryInMB', doc='Maximum memory in MB allocated to histogram aggregation.'): 256,\n",
       " Param(parent='DecisionTreeRegressor_0034f5c7446a', name='minInfoGain', doc='Minimum information gain for a split to be considered at a tree node.'): 0.0,\n",
       " Param(parent='DecisionTreeRegressor_0034f5c7446a', name='minInstancesPerNode', doc='Minimum number of instances each child must have after split.  If a split causes the left or right child to have fewer than minInstancesPerNode, the split will be discarded as invalid. Should be >= 1.'): 3,\n",
       " Param(parent='DecisionTreeRegressor_0034f5c7446a', name='predictionCol', doc='prediction column name'): 'prediction',\n",
       " Param(parent='DecisionTreeRegressor_0034f5c7446a', name='seed', doc='random seed'): 314}"
      ]
     },
     "execution_count": 60,
     "metadata": {},
     "output_type": "execute_result"
    }
   ],
   "source": [
    "dtBest = dtModel.bestModel\n",
    "dtBest.extractParamMap()"
   ]
  },
  {
   "cell_type": "markdown",
   "metadata": {},
   "source": [
    "## Random Forest"
   ]
  },
  {
   "cell_type": "code",
   "execution_count": 61,
   "metadata": {},
   "outputs": [
    {
     "data": {
      "text/plain": [
       "30"
      ]
     },
     "execution_count": 61,
     "metadata": {},
     "output_type": "execute_result"
    }
   ],
   "source": [
    "rf = RandomForestRegressor(cacheNodeIds=True, seed=theSeed, subsamplingRate=0.5)\n",
    "rfGrid = ParamGridBuilder() \\\n",
    "            .addGrid(rf.maxDepth, [5,10,13,15,19]) \\\n",
    "            .addGrid(rf.minInstancesPerNode, [3,10,40]) \\\n",
    "            .addGrid(rf.maxBins, [32, 64]) \\\n",
    "            .addGrid(rf.numTrees, [20]) \\\n",
    "            .build()\n",
    "rfCv = CrossValidator(estimator=rf, estimatorParamMaps=rfGrid, evaluator=rmse, numFolds=5, seed=theSeed)\n",
    "len(rfGrid)"
   ]
  },
  {
   "cell_type": "code",
   "execution_count": 62,
   "metadata": {},
   "outputs": [
    {
     "name": "stdout",
     "output_type": "stream",
     "text": [
      "CPU times: user 9.32 s, sys: 3.68 s, total: 13 s\n",
      "Wall time: 7min 21s\n"
     ]
    }
   ],
   "source": [
    "%%time\n",
    "rfModel = rfCv.fit(train_df)"
   ]
  },
  {
   "cell_type": "code",
   "execution_count": 63,
   "metadata": {},
   "outputs": [],
   "source": [
    "rfPredictions = rfModel.transform(test_df)"
   ]
  },
  {
   "cell_type": "code",
   "execution_count": 64,
   "metadata": {},
   "outputs": [
    {
     "data": {
      "text/plain": [
       "[10.22218989553543, 0.5455367631129973, 8.03550177769239]"
      ]
     },
     "execution_count": 64,
     "metadata": {},
     "output_type": "execute_result"
    }
   ],
   "source": [
    "model_performance(rfPredictions)"
   ]
  },
  {
   "cell_type": "code",
   "execution_count": 65,
   "metadata": {},
   "outputs": [
    {
     "data": {
      "text/plain": [
       "{Param(parent='RandomForestRegressor_e269d9b8d47f', name='cacheNodeIds', doc='If false, the algorithm will pass trees to executors to match instances with nodes. If true, the algorithm will cache node IDs for each instance. Caching can speed up training of deeper trees.'): True,\n",
       " Param(parent='RandomForestRegressor_e269d9b8d47f', name='checkpointInterval', doc='set checkpoint interval (>= 1) or disable checkpoint (-1). E.g. 10 means that the cache will get checkpointed every 10 iterations. Note: this setting will be ignored if the checkpoint directory is not set in the SparkContext'): 10,\n",
       " Param(parent='RandomForestRegressor_e269d9b8d47f', name='featureSubsetStrategy', doc='The number of features to consider for splits at each tree node. Supported options: auto, all, onethird, sqrt, log2, (0.0-1.0], [1-n].'): 'auto',\n",
       " Param(parent='RandomForestRegressor_e269d9b8d47f', name='featuresCol', doc='features column name'): 'features',\n",
       " Param(parent='RandomForestRegressor_e269d9b8d47f', name='impurity', doc='Criterion used for information gain calculation (case-insensitive). Supported options: variance'): 'variance',\n",
       " Param(parent='RandomForestRegressor_e269d9b8d47f', name='labelCol', doc='label column name'): 'label',\n",
       " Param(parent='RandomForestRegressor_e269d9b8d47f', name='maxBins', doc='Max number of bins for discretizing continuous features.  Must be >=2 and >= number of categories for any categorical feature.'): 32,\n",
       " Param(parent='RandomForestRegressor_e269d9b8d47f', name='maxDepth', doc='Maximum depth of the tree. (>= 0) E.g., depth 0 means 1 leaf node; depth 1 means 1 internal node + 2 leaf nodes.'): 19,\n",
       " Param(parent='RandomForestRegressor_e269d9b8d47f', name='maxMemoryInMB', doc='Maximum memory in MB allocated to histogram aggregation.'): 256,\n",
       " Param(parent='RandomForestRegressor_e269d9b8d47f', name='minInfoGain', doc='Minimum information gain for a split to be considered at a tree node.'): 0.0,\n",
       " Param(parent='RandomForestRegressor_e269d9b8d47f', name='minInstancesPerNode', doc='Minimum number of instances each child must have after split.  If a split causes the left or right child to have fewer than minInstancesPerNode, the split will be discarded as invalid. Should be >= 1.'): 3,\n",
       " Param(parent='RandomForestRegressor_e269d9b8d47f', name='numTrees', doc='Number of trees to train (>= 1)'): 20,\n",
       " Param(parent='RandomForestRegressor_e269d9b8d47f', name='predictionCol', doc='prediction column name'): 'prediction',\n",
       " Param(parent='RandomForestRegressor_e269d9b8d47f', name='seed', doc='random seed'): 314,\n",
       " Param(parent='RandomForestRegressor_e269d9b8d47f', name='subsamplingRate', doc='Fraction of the training data used for learning each decision tree, in range (0, 1].'): 0.5}"
      ]
     },
     "execution_count": 65,
     "metadata": {},
     "output_type": "execute_result"
    }
   ],
   "source": [
    "rfBest = rfModel.bestModel\n",
    "rfBest.extractParamMap()"
   ]
  },
  {
   "cell_type": "markdown",
   "metadata": {},
   "source": [
    "## Gradient Boosted Tree"
   ]
  },
  {
   "cell_type": "code",
   "execution_count": 66,
   "metadata": {},
   "outputs": [
    {
     "data": {
      "text/plain": [
       "12"
      ]
     },
     "execution_count": 66,
     "metadata": {},
     "output_type": "execute_result"
    }
   ],
   "source": [
    "gbt = GBTRegressor(cacheNodeIds=True, seed=theSeed, subsamplingRate=0.5)\n",
    "gbtGrid = ParamGridBuilder() \\\n",
    "            .addGrid(gbt.maxDepth, [5, 10, 15]) \\\n",
    "            .addGrid(gbt.minInstancesPerNode, [3, 10]) \\\n",
    "            .addGrid(gbt.maxBins, [64]) \\\n",
    "            .addGrid(gbt.stepSize, [0.01, 0.1]) \\\n",
    "            .addGrid(gbt.maxIter, [20]) \\\n",
    "            .build()\n",
    "gbtCv = CrossValidator(estimator=gbt, estimatorParamMaps=gbtGrid, evaluator=rmse, numFolds=5, seed=theSeed)\n",
    "len(gbtGrid)"
   ]
  },
  {
   "cell_type": "code",
   "execution_count": 67,
   "metadata": {},
   "outputs": [
    {
     "name": "stdout",
     "output_type": "stream",
     "text": [
      "CPU times: user 13.6 s, sys: 3.92 s, total: 17.5 s\n",
      "Wall time: 24min 28s\n"
     ]
    }
   ],
   "source": [
    "%%time\n",
    "gbtModel = gbtCv.fit(train_df)"
   ]
  },
  {
   "cell_type": "code",
   "execution_count": 68,
   "metadata": {},
   "outputs": [],
   "source": [
    "gbtPredictions = gbtModel.transform(test_df)"
   ]
  },
  {
   "cell_type": "code",
   "execution_count": 69,
   "metadata": {},
   "outputs": [
    {
     "data": {
      "text/plain": [
       "[11.089748249274306, 0.4651226065046534, 8.544342850498873]"
      ]
     },
     "execution_count": 69,
     "metadata": {},
     "output_type": "execute_result"
    }
   ],
   "source": [
    "model_performance(gbtPredictions)"
   ]
  },
  {
   "cell_type": "code",
   "execution_count": 70,
   "metadata": {},
   "outputs": [
    {
     "data": {
      "text/plain": [
       "{Param(parent='GBTRegressor_40246420d35e', name='cacheNodeIds', doc='If false, the algorithm will pass trees to executors to match instances with nodes. If true, the algorithm will cache node IDs for each instance. Caching can speed up training of deeper trees.'): True,\n",
       " Param(parent='GBTRegressor_40246420d35e', name='checkpointInterval', doc='set checkpoint interval (>= 1) or disable checkpoint (-1). E.g. 10 means that the cache will get checkpointed every 10 iterations. Note: this setting will be ignored if the checkpoint directory is not set in the SparkContext'): 10,\n",
       " Param(parent='GBTRegressor_40246420d35e', name='featureSubsetStrategy', doc='The number of features to consider for splits at each tree node. Supported options: auto, all, onethird, sqrt, log2, (0.0-1.0], [1-n].'): 'all',\n",
       " Param(parent='GBTRegressor_40246420d35e', name='featuresCol', doc='features column name'): 'features',\n",
       " Param(parent='GBTRegressor_40246420d35e', name='impurity', doc='Criterion used for information gain calculation (case-insensitive). Supported options: variance'): 'variance',\n",
       " Param(parent='GBTRegressor_40246420d35e', name='labelCol', doc='label column name'): 'label',\n",
       " Param(parent='GBTRegressor_40246420d35e', name='lossType', doc='Loss function which GBT tries to minimize (case-insensitive). Supported options: squared, absolute'): 'squared',\n",
       " Param(parent='GBTRegressor_40246420d35e', name='maxBins', doc='Max number of bins for discretizing continuous features.  Must be >=2 and >= number of categories for any categorical feature.'): 64,\n",
       " Param(parent='GBTRegressor_40246420d35e', name='maxDepth', doc='Maximum depth of the tree. (>= 0) E.g., depth 0 means 1 leaf node; depth 1 means 1 internal node + 2 leaf nodes.'): 5,\n",
       " Param(parent='GBTRegressor_40246420d35e', name='maxIter', doc='maximum number of iterations (>= 0)'): 20,\n",
       " Param(parent='GBTRegressor_40246420d35e', name='maxMemoryInMB', doc='Maximum memory in MB allocated to histogram aggregation.'): 256,\n",
       " Param(parent='GBTRegressor_40246420d35e', name='minInfoGain', doc='Minimum information gain for a split to be considered at a tree node.'): 0.0,\n",
       " Param(parent='GBTRegressor_40246420d35e', name='minInstancesPerNode', doc='Minimum number of instances each child must have after split.  If a split causes the left or right child to have fewer than minInstancesPerNode, the split will be discarded as invalid. Should be >= 1.'): 3,\n",
       " Param(parent='GBTRegressor_40246420d35e', name='predictionCol', doc='prediction column name'): 'prediction',\n",
       " Param(parent='GBTRegressor_40246420d35e', name='seed', doc='random seed'): 314,\n",
       " Param(parent='GBTRegressor_40246420d35e', name='stepSize', doc='Step size (a.k.a. learning rate) in interval (0, 1] for shrinking the contribution of each estimator.'): 0.1,\n",
       " Param(parent='GBTRegressor_40246420d35e', name='subsamplingRate', doc='Fraction of the training data used for learning each decision tree, in range (0, 1].'): 0.5}"
      ]
     },
     "execution_count": 70,
     "metadata": {},
     "output_type": "execute_result"
    }
   ],
   "source": [
    "gbtBest = gbtModel.bestModel\n",
    "gbtBest.extractParamMap()"
   ]
  },
  {
   "cell_type": "markdown",
   "metadata": {},
   "source": [
    "## Model Comparison"
   ]
  },
  {
   "cell_type": "code",
   "execution_count": 71,
   "metadata": {},
   "outputs": [],
   "source": [
    "# Get the performance for each best model and ensemble them into a list\n",
    "perfMetrics = [\n",
    "    ['lr'] + model_performance(lrBest.transform(test_df)), \\\n",
    "    ['ridge'] + model_performance(ridgeBest.transform(test_df)), \\\n",
    "    ['lasso'] + model_performance(lassoBest.transform(test_df)), \\\n",
    "    ['elasticNet'] + model_performance(elasticNetBest.transform(test_df)), \\\n",
    "    ['glm'] + model_performance(glmBest.transform(test_df)), \\\n",
    "    ['dt'] + model_performance(dtBest.transform(test_df)), \\\n",
    "    ['rf'] + model_performance(rfBest.transform(test_df)), \\\n",
    "    ['gbt'] + model_performance(gbtBest.transform(test_df))\n",
    "]"
   ]
  },
  {
   "cell_type": "code",
   "execution_count": 72,
   "metadata": {},
   "outputs": [
    {
     "name": "stdout",
     "output_type": "stream",
     "text": [
      "+----------+------------------+------------------+-----------------+\n",
      "|     model|              rmse|                r2|              mae|\n",
      "+----------+------------------+------------------+-----------------+\n",
      "|        lr|10.000337119577143|0.5650491842100047| 7.67928592051438|\n",
      "|     ridge| 9.958589175034822|0.5686731420840172|7.664280747498952|\n",
      "|     lasso| 9.995335945842342|0.5654841136817583|7.676075289547258|\n",
      "|elasticNet| 9.974501037162078|0.5672936903554152|7.674832330871128|\n",
      "|       glm| 9.958589175034822|0.5686731420840172|7.664280747498952|\n",
      "|        dt|11.470266510820682|0.4277867815450881|8.925662284830516|\n",
      "|        rf| 10.22218989553543|0.5455367631129973| 8.03550177769239|\n",
      "|       gbt|11.089748249274306|0.4651226065046534|8.544342850498873|\n",
      "+----------+------------------+------------------+-----------------+\n",
      "\n"
     ]
    }
   ],
   "source": [
    "# Parallelize the list of metrics and convert it into data frame to be shown\n",
    "perfDF = sc.parallelize(perfMetrics).toDF(['model','rmse','r2','mae'])\n",
    "perfDF.show()"
   ]
  },
  {
   "cell_type": "markdown",
   "metadata": {},
   "source": [
    "## Match Plot"
   ]
  },
  {
   "cell_type": "code",
   "execution_count": 75,
   "metadata": {},
   "outputs": [],
   "source": [
    "import pandas as pd\n",
    "import numpy as np\n",
    "import seaborn as sns\n",
    "import matplotlib.pyplot as plt"
   ]
  },
  {
   "cell_type": "code",
   "execution_count": 84,
   "metadata": {},
   "outputs": [
    {
     "data": {
      "image/png": "[encoded data removed]",
      "text/plain": [
       "<Figure size 900x600 with 1 Axes>"
      ]
     },
     "metadata": {
      "needs_background": "light"
     },
     "output_type": "display_data"
    }
   ],
   "source": [
    "# Best Model\n",
    "matchPlot = ridgePredictions.drop('features').toPandas()\n",
    "\n",
    "# Define some colors\n",
    "cmap = sns.cubehelix_palette(start=0.3, rot=-0.75,dark=.3, light=.7, as_cmap=True)\n",
    "cmap1 = sns.cubehelix_palette(dark=.5, light=.5, as_cmap=True,rot=-0.2,start=-0.2)\n",
    "\n",
    "# Plot a scatter plot popularity vs prediction\n",
    "plt.figure(dpi=150)\n",
    "sns.scatterplot(data=matchPlot, \\\n",
    "                x='label', \\\n",
    "                y='prediction', \\\n",
    "                marker='.', \\\n",
    "                hue='label', \\\n",
    "                palette=cmap, \\\n",
    "                legend=False) \\\n",
    "    .set_title(\"True popularity VS Predictions\")\n",
    "\n",
    "# Define some dataframe to be used to draw a line y=x\n",
    "tt = np.arange(0,100,1)\n",
    "zeros = np.zeros(100)\n",
    "tt_df = pd.DataFrame([tt,tt,zeros])\n",
    "tt_df = tt_df.transpose()\n",
    "tt_df.columns = ['0','1','2']\n",
    "\n",
    "# Plot the abline y=x for reference\n",
    "sns.lineplot(data=tt_df, \\\n",
    "             x='0', \\\n",
    "             y='1', \\\n",
    "             dashes=True, \\\n",
    "             hue='2', \\\n",
    "             palette=cmap1, \\\n",
    "             legend=False)\n",
    "plt.xlabel('True popularity')\n",
    "plt.ylabel('Prediction')\n",
    "plt.show()"
   ]
  },
  {
   "cell_type": "markdown",
   "metadata": {},
   "source": [
    "## Important Result"
   ]
  },
  {
   "cell_type": "code",
   "execution_count": 102,
   "metadata": {},
   "outputs": [
    {
     "data": {
      "text/html": [
       "<div>\n",
       "<style scoped>\n",
       "    .dataframe tbody tr th:only-of-type {\n",
       "        vertical-align: middle;\n",
       "    }\n",
       "\n",
       "    .dataframe tbody tr th {\n",
       "        vertical-align: top;\n",
       "    }\n",
       "\n",
       "    .dataframe thead th {\n",
       "        text-align: right;\n",
       "    }\n",
       "</style>\n",
       "<table border=\"1\" class=\"dataframe\">\n",
       "  <thead>\n",
       "    <tr style=\"text-align: right;\">\n",
       "      <th></th>\n",
       "      <th>variable</th>\n",
       "      <th>coefficient</th>\n",
       "      <th>p-value</th>\n",
       "    </tr>\n",
       "  </thead>\n",
       "  <tbody>\n",
       "    <tr>\n",
       "      <th>0</th>\n",
       "      <td>intercept</td>\n",
       "      <td>30.495465</td>\n",
       "      <td>0.660482</td>\n",
       "    </tr>\n",
       "    <tr>\n",
       "      <th>1</th>\n",
       "      <td>album</td>\n",
       "      <td>-0.170478</td>\n",
       "      <td>0.024670</td>\n",
       "    </tr>\n",
       "    <tr>\n",
       "      <th>2</th>\n",
       "      <td>single</td>\n",
       "      <td>0.781784</td>\n",
       "      <td>0.003617</td>\n",
       "    </tr>\n",
       "    <tr>\n",
       "      <th>3</th>\n",
       "      <td>compilation</td>\n",
       "      <td>-0.780993</td>\n",
       "      <td>0.000000</td>\n",
       "    </tr>\n",
       "    <tr>\n",
       "      <th>4</th>\n",
       "      <td>is_explicit</td>\n",
       "      <td>1.389197</td>\n",
       "      <td>0.344711</td>\n",
       "    </tr>\n",
       "    <tr>\n",
       "      <th>5</th>\n",
       "      <td>danceability</td>\n",
       "      <td>0.184146</td>\n",
       "      <td>0.124678</td>\n",
       "    </tr>\n",
       "    <tr>\n",
       "      <th>6</th>\n",
       "      <td>energy</td>\n",
       "      <td>-0.407592</td>\n",
       "      <td>0.440596</td>\n",
       "    </tr>\n",
       "    <tr>\n",
       "      <th>7</th>\n",
       "      <td>C Key</td>\n",
       "      <td>0.171470</td>\n",
       "      <td>0.774786</td>\n",
       "    </tr>\n",
       "    <tr>\n",
       "      <th>8</th>\n",
       "      <td>C#/Db Key</td>\n",
       "      <td>0.061350</td>\n",
       "      <td>0.948257</td>\n",
       "    </tr>\n",
       "    <tr>\n",
       "      <th>9</th>\n",
       "      <td>D Key</td>\n",
       "      <td>-0.014127</td>\n",
       "      <td>0.157702</td>\n",
       "    </tr>\n",
       "  </tbody>\n",
       "</table>\n",
       "</div>"
      ],
      "text/plain": [
       "       variable  coefficient   p-value\n",
       "0     intercept    30.495465  0.660482\n",
       "1         album    -0.170478  0.024670\n",
       "2        single     0.781784  0.003617\n",
       "3   compilation    -0.780993  0.000000\n",
       "4   is_explicit     1.389197  0.344711\n",
       "5  danceability     0.184146  0.124678\n",
       "6        energy    -0.407592  0.440596\n",
       "7         C Key     0.171470  0.774786\n",
       "8     C#/Db Key     0.061350  0.948257\n",
       "9         D Key    -0.014127  0.157702"
      ]
     },
     "execution_count": 102,
     "metadata": {},
     "output_type": "execute_result"
    }
   ],
   "source": [
    "# Ridge Regression Summary\n",
    "ridge_result = {\n",
    "    'variable':['intercept'] + featureCol,\n",
    "    'coefficient':[ridgeBest.intercept] + list(ridgeBest.coefficients),\n",
    "    'p-value':ridgeBest.summary.pValues\n",
    "}\n",
    "lr_summary = pd.DataFrame(ridge_result)\n",
    "lr_summary.to_csv('lr_summary.csv', index=False)\n",
    "lr_summary.head(10)"
   ]
  },
  {
   "cell_type": "code",
   "execution_count": 103,
   "metadata": {},
   "outputs": [
    {
     "data": {
      "text/html": [
       "<div>\n",
       "<style scoped>\n",
       "    .dataframe tbody tr th:only-of-type {\n",
       "        vertical-align: middle;\n",
       "    }\n",
       "\n",
       "    .dataframe tbody tr th {\n",
       "        vertical-align: top;\n",
       "    }\n",
       "\n",
       "    .dataframe thead th {\n",
       "        text-align: right;\n",
       "    }\n",
       "</style>\n",
       "<table border=\"1\" class=\"dataframe\">\n",
       "  <thead>\n",
       "    <tr style=\"text-align: right;\">\n",
       "      <th></th>\n",
       "      <th>variable</th>\n",
       "      <th>coefficient</th>\n",
       "    </tr>\n",
       "  </thead>\n",
       "  <tbody>\n",
       "    <tr>\n",
       "      <th>0</th>\n",
       "      <td>album</td>\n",
       "      <td>0.007017</td>\n",
       "    </tr>\n",
       "    <tr>\n",
       "      <th>1</th>\n",
       "      <td>single</td>\n",
       "      <td>0.016122</td>\n",
       "    </tr>\n",
       "    <tr>\n",
       "      <th>2</th>\n",
       "      <td>compilation</td>\n",
       "      <td>0.010399</td>\n",
       "    </tr>\n",
       "    <tr>\n",
       "      <th>3</th>\n",
       "      <td>is_explicit</td>\n",
       "      <td>0.021083</td>\n",
       "    </tr>\n",
       "    <tr>\n",
       "      <th>4</th>\n",
       "      <td>danceability</td>\n",
       "      <td>0.026057</td>\n",
       "    </tr>\n",
       "    <tr>\n",
       "      <th>5</th>\n",
       "      <td>energy</td>\n",
       "      <td>0.022834</td>\n",
       "    </tr>\n",
       "    <tr>\n",
       "      <th>6</th>\n",
       "      <td>C Key</td>\n",
       "      <td>0.002863</td>\n",
       "    </tr>\n",
       "    <tr>\n",
       "      <th>7</th>\n",
       "      <td>C#/Db Key</td>\n",
       "      <td>0.001444</td>\n",
       "    </tr>\n",
       "    <tr>\n",
       "      <th>8</th>\n",
       "      <td>D Key</td>\n",
       "      <td>0.001966</td>\n",
       "    </tr>\n",
       "    <tr>\n",
       "      <th>9</th>\n",
       "      <td>D#/Eb Key</td>\n",
       "      <td>0.000284</td>\n",
       "    </tr>\n",
       "  </tbody>\n",
       "</table>\n",
       "</div>"
      ],
      "text/plain": [
       "       variable  coefficient\n",
       "0         album     0.007017\n",
       "1        single     0.016122\n",
       "2   compilation     0.010399\n",
       "3   is_explicit     0.021083\n",
       "4  danceability     0.026057\n",
       "5        energy     0.022834\n",
       "6         C Key     0.002863\n",
       "7     C#/Db Key     0.001444\n",
       "8         D Key     0.001966\n",
       "9     D#/Eb Key     0.000284"
      ]
     },
     "execution_count": 103,
     "metadata": {},
     "output_type": "execute_result"
    }
   ],
   "source": [
    "# Random Forest Feature Importance\n",
    "rf_result = {\n",
    "    'variable':featureCol,\n",
    "    'coefficient':list(rfBest.featureImportances)\n",
    "}\n",
    "rf_feature_importance = pd.DataFrame(rf_result)\n",
    "rf_feature_importance.to_csv('rf_feature_importance.csv', index=False)\n",
    "rf_feature_importance.head(10)"
   ]
  },
  {
   "cell_type": "code",
   "execution_count": null,
   "metadata": {},
   "outputs": [],
   "source": []
  }
 ],
 "metadata": {
  "kernelspec": {
   "display_name": "Python 3",
   "language": "python",
   "name": "python3"
  },
  "language_info": {
   "codemirror_mode": {
    "name": "ipython",
    "version": 3
   },
   "file_extension": ".py",
   "mimetype": "text/x-python",
   "name": "python",
   "nbconvert_exporter": "python",
   "pygments_lexer": "ipython3",
   "version": "3.7.1"
  }
 },
 "nbformat": 4,
 "nbformat_minor": 2
}
